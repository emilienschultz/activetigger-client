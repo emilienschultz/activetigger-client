{
 "cells": [
  {
   "cell_type": "code",
   "execution_count": 1,
   "metadata": {},
   "outputs": [],
   "source": [
    "import sys\n",
    "sys.path.append('..')\n",
    "import atclient\n",
    "import pandas as pd"
   ]
  },
  {
   "cell_type": "markdown",
   "metadata": {},
   "source": [
    "## Use the API"
   ]
  },
  {
   "cell_type": "markdown",
   "metadata": {},
   "source": [
    "### Connect"
   ]
  },
  {
   "cell_type": "markdown",
   "metadata": {},
   "source": [
    "Create a config.yaml with 3 fields : url, username and password"
   ]
  },
  {
   "cell_type": "code",
   "execution_count": 2,
   "metadata": {},
   "outputs": [
    {
     "name": "stdout",
     "output_type": "stream",
     "text": [
      "Token received\n"
     ]
    }
   ],
   "source": [
    "api = atclient.AtApi(config='../config.yaml')"
   ]
  },
  {
   "cell_type": "markdown",
   "metadata": {},
   "source": [
    "### Projects management"
   ]
  },
  {
   "cell_type": "markdown",
   "metadata": {},
   "source": [
    "Load data to test"
   ]
  },
  {
   "cell_type": "code",
   "execution_count": 3,
   "metadata": {},
   "outputs": [
    {
     "data": {
      "text/html": [
       "<div>\n",
       "<style scoped>\n",
       "    .dataframe tbody tr th:only-of-type {\n",
       "        vertical-align: middle;\n",
       "    }\n",
       "\n",
       "    .dataframe tbody tr th {\n",
       "        vertical-align: top;\n",
       "    }\n",
       "\n",
       "    .dataframe thead th {\n",
       "        text-align: right;\n",
       "    }\n",
       "</style>\n",
       "<table border=\"1\" class=\"dataframe\">\n",
       "  <thead>\n",
       "    <tr style=\"text-align: right;\">\n",
       "      <th></th>\n",
       "      <th>Unnamed: 0</th>\n",
       "      <th>id</th>\n",
       "      <th>text</th>\n",
       "      <th>label</th>\n",
       "      <th>prob</th>\n",
       "      <th>proba</th>\n",
       "    </tr>\n",
       "  </thead>\n",
       "  <tbody>\n",
       "    <tr>\n",
       "      <th>0</th>\n",
       "      <td>0</td>\n",
       "      <td>1569866966566932480</td>\n",
       "      <td>Les ENFANTS du Québec, \\nLes AÎNÉS du Québec,\\...</td>\n",
       "      <td>Autre</td>\n",
       "      <td>0.823412</td>\n",
       "      <td>NaN</td>\n",
       "    </tr>\n",
       "    <tr>\n",
       "      <th>1</th>\n",
       "      <td>1</td>\n",
       "      <td>1569919081351942144</td>\n",
       "      <td>Après avoir imposé une politique dystopique zé...</td>\n",
       "      <td>Autre</td>\n",
       "      <td>0.599684</td>\n",
       "      <td>NaN</td>\n",
       "    </tr>\n",
       "    <tr>\n",
       "      <th>2</th>\n",
       "      <td>2</td>\n",
       "      <td>1569930968026480640</td>\n",
       "      <td>@Nyonensis @DIVIZIO1 Pour le coup, si ce qu'il...</td>\n",
       "      <td>Autre</td>\n",
       "      <td>0.941126</td>\n",
       "      <td>NaN</td>\n",
       "    </tr>\n",
       "    <tr>\n",
       "      <th>3</th>\n",
       "      <td>3</td>\n",
       "      <td>1569947515465728000</td>\n",
       "      <td>@nadinecerdan @SaiyanBio @nawah_s C'est sous e...</td>\n",
       "      <td>Autre</td>\n",
       "      <td>0.625537</td>\n",
       "      <td>NaN</td>\n",
       "    </tr>\n",
       "    <tr>\n",
       "      <th>4</th>\n",
       "      <td>4</td>\n",
       "      <td>1569961852972732416</td>\n",
       "      <td>@L_ThinkTank L'achat de vaccins et d'armes ne ...</td>\n",
       "      <td>Autre</td>\n",
       "      <td>0.103508</td>\n",
       "      <td>NaN</td>\n",
       "    </tr>\n",
       "  </tbody>\n",
       "</table>\n",
       "</div>"
      ],
      "text/plain": [
       "   Unnamed: 0                   id  \\\n",
       "0           0  1569866966566932480   \n",
       "1           1  1569919081351942144   \n",
       "2           2  1569930968026480640   \n",
       "3           3  1569947515465728000   \n",
       "4           4  1569961852972732416   \n",
       "\n",
       "                                                text  label      prob  proba  \n",
       "0  Les ENFANTS du Québec, \\nLes AÎNÉS du Québec,\\...  Autre  0.823412    NaN  \n",
       "1  Après avoir imposé une politique dystopique zé...  Autre  0.599684    NaN  \n",
       "2  @Nyonensis @DIVIZIO1 Pour le coup, si ce qu'il...  Autre  0.941126    NaN  \n",
       "3  @nadinecerdan @SaiyanBio @nawah_s C'est sous e...  Autre  0.625537    NaN  \n",
       "4  @L_ThinkTank L'achat de vaccins et d'armes ne ...  Autre  0.103508    NaN  "
      ]
     },
     "execution_count": 3,
     "metadata": {},
     "output_type": "execute_result"
    }
   ],
   "source": [
    "df = pd.read_parquet(\"../../activetigger/data/dataset_test.parquet\")\n",
    "df.head()"
   ]
  },
  {
   "cell_type": "markdown",
   "metadata": {},
   "source": [
    "Get available projects"
   ]
  },
  {
   "cell_type": "code",
   "execution_count": 4,
   "metadata": {},
   "outputs": [
    {
     "data": {
      "text/plain": [
       "8"
      ]
     },
     "execution_count": 4,
     "metadata": {},
     "output_type": "execute_result"
    }
   ],
   "source": [
    "r = api.get_projects()\n",
    "len(r)"
   ]
  },
  {
   "cell_type": "code",
   "execution_count": null,
   "metadata": {},
   "outputs": [
    {
     "name": "stdout",
     "output_type": "stream",
     "text": [
      "Starting the export of project multi\n",
      "This project seems already be saved, check or delete the previous version\n",
      "Starting the export of project regles\n",
      "This project seems already be saved, check or delete the previous version\n",
      "Starting the export of project test\n",
      "This project seems already be saved, check or delete the previous version\n"
     ]
    }
   ],
   "source": [
    "api.export_all(path=\"./exports\", \n",
    "               raw_datasets=False, \n",
    "               since=pd.to_datetime(\"2025-04-04\"))"
   ]
  },
  {
   "cell_type": "code",
   "execution_count": 6,
   "metadata": {},
   "outputs": [
    {
     "data": {
      "text/plain": [
       "Timestamp('2025-04-04 10:03:41')"
      ]
     },
     "execution_count": 6,
     "metadata": {},
     "output_type": "execute_result"
    }
   ],
   "source": [
    "pd.to_datetime(r[0][\"last_activity\"])"
   ]
  },
  {
   "cell_type": "markdown",
   "metadata": {},
   "source": [
    "Get project slugs"
   ]
  },
  {
   "cell_type": "code",
   "execution_count": 8,
   "metadata": {},
   "outputs": [
    {
     "data": {
      "text/plain": [
       "['20250404-conseiller-imane',\n",
       " '20250404-conseiller-younes',\n",
       " '20250404-prophetie-raphael',\n",
       " '20250404-prophetie-adam',\n",
       " '316-2',\n",
       " 'v17',\n",
       " '316-100',\n",
       " '20250328-conseiller-raphael',\n",
       " '20250328-conseiller-adam',\n",
       " '20250328-prophetie-younes',\n",
       " '20250328-prophetie-imane',\n",
       " 'v6-classification-pledges-en',\n",
       " 'v5-classification-pledges-en',\n",
       " '20news-2',\n",
       " '20news',\n",
       " 'genre3',\n",
       " 'pqn40k-2',\n",
       " 'pqn4k-2',\n",
       " 'pqn4k',\n",
       " 'obits',\n",
       " 'v4-classification-pledges',\n",
       " 'v3-classification-pledges',\n",
       " 'v2-classification-pledges',\n",
       " 'v1-classification-pledge',\n",
       " 'v9-articles-echantillonnes-nv-codage',\n",
       " '20250318-voix-younes',\n",
       " '20250318-voix-raphael',\n",
       " '20250318-voix-imane',\n",
       " '20250318-voix-adam',\n",
       " '20250318-opinion-raphael',\n",
       " '20250318-opinion-adam',\n",
       " '20250318-discours-opinion-younes',\n",
       " '20250318-discours-opinion-imane',\n",
       " 'zoubidouzoubida',\n",
       " 'cues-quotes',\n",
       " '20250310-voix-raphael',\n",
       " '20250310-voix-younes',\n",
       " '20250310-voix-imane',\n",
       " '20250313-classification-events',\n",
       " '20250312-selection-artiste-article',\n",
       " 'regles',\n",
       " 'v8-2024-2025-10-000-articles',\n",
       " '20250310-selection-articles',\n",
       " 'stress-stress-5',\n",
       " 'stress-stress-4',\n",
       " 'stress-stress-3',\n",
       " 'stress-stress-1',\n",
       " '20250310-opinion-younes',\n",
       " '20250310-opinion-imane',\n",
       " '20250310-discours-opinion-adam',\n",
       " '20250310-discours-opinion-raphael',\n",
       " '20250305-classification-test',\n",
       " 'pitchfork-sentences',\n",
       " 'pitchfork-par',\n",
       " '20250305-artist-text-test',\n",
       " 'test',\n",
       " 'ttt',\n",
       " '1',\n",
       " 'project-inclass',\n",
       " 'sample',\n",
       " 'quotesinclass',\n",
       " 'unattributed-quotes-in-class',\n",
       " 'quotes-11',\n",
       " 'quotes-inclass1',\n",
       " 'unattributed-classes',\n",
       " 'quotes-inlass',\n",
       " 'quotes-mar-3',\n",
       " 'unattributed-quotes',\n",
       " 'in-class',\n",
       " 'quotes',\n",
       " 'quotes-inclass',\n",
       " 'soci7000',\n",
       " 'new-project',\n",
       " '20250303-vss-articles',\n",
       " '20250303-discours-opinion-raphael',\n",
       " '20250303-discours-opinion-imane',\n",
       " '20250303-discours-opinion-adam',\n",
       " '20250221-opinion-younes',\n",
       " 'unattribued',\n",
       " '250301-vss-articles-nli']"
      ]
     },
     "execution_count": 8,
     "metadata": {},
     "output_type": "execute_result"
    }
   ],
   "source": [
    "api.get_projects_slugs()"
   ]
  },
  {
   "cell_type": "markdown",
   "metadata": {},
   "source": [
    "(If you want to sluggify a project name, you can use the following function)\n",
    "\n",
    "```python\n",
    "from slugify import slugify\n",
    "slugify(\"My project name\")\n",
    "```"
   ]
  },
  {
   "cell_type": "markdown",
   "metadata": {},
   "source": [
    "Create a project and return the slug"
   ]
  },
  {
   "cell_type": "code",
   "execution_count": 5,
   "metadata": {},
   "outputs": [
    {
     "name": "stdout",
     "output_type": "stream",
     "text": [
      "None\n"
     ]
    },
    {
     "data": {
      "text/plain": [
       "'del2'"
      ]
     },
     "execution_count": 5,
     "metadata": {},
     "output_type": "execute_result"
    }
   ],
   "source": [
    "api.add_project(\"del2\", df, \"id\", [\"text\"], cols_label=[\"label\"])"
   ]
  },
  {
   "cell_type": "markdown",
   "metadata": {},
   "source": [
    "Delete a project"
   ]
  },
  {
   "cell_type": "code",
   "execution_count": 6,
   "metadata": {},
   "outputs": [
    {
     "name": "stdout",
     "output_type": "stream",
     "text": [
      "Project deleted\n"
     ]
    }
   ],
   "source": [
    "api.delete_project(\"del2\")"
   ]
  },
  {
   "cell_type": "markdown",
   "metadata": {},
   "source": [
    "Export a project (without the models)"
   ]
  },
  {
   "cell_type": "code",
   "execution_count": 11,
   "metadata": {},
   "outputs": [
    {
     "name": "stdout",
     "output_type": "stream",
     "text": [
      "No test found\n",
      "Project v9-articles-echantillonnes-nv-codage saved with 1 schemes\n",
      "HTTPSConnectionPool(host='projet-datalab-gpu-40gb-609227-user.lab.groupe-genes.fr', port=443): Max retries exceeded with url: /static/v9-articles-echantillonnes-nv-codage/v9-articles-echantillonnes-nv-codage_data_all.parquet (Caused by SSLError(SSLCertVerificationError(1, '[SSL: CERTIFICATE_VERIFY_FAILED] certificate verify failed: unable to get local issuer certificate (_ssl.c:1006)')))\n"
     ]
    }
   ],
   "source": [
    "api.export_project(\"v9-articles-echantillonnes-nv-codage\", path=\"./exports\", raw_datasets=True)"
   ]
  },
  {
   "cell_type": "code",
   "execution_count": null,
   "metadata": {},
   "outputs": [],
   "source": []
  },
  {
   "cell_type": "markdown",
   "metadata": {},
   "source": [
    "Export all the projects available for a user (for a backup for example)"
   ]
  },
  {
   "cell_type": "code",
   "execution_count": 3,
   "metadata": {},
   "outputs": [
    {
     "name": "stdout",
     "output_type": "stream",
     "text": [
      "['316-2', 'v17', '316-100', '20250328-conseiller-raphael', '20250328-conseiller-adam', '20250328-prophetie-younes', '20250328-prophetie-imane', 'v6-classification-pledges-en', 'v5-classification-pledges-en', '20news-2', '20news', 'genre3', 'pqn40k-2', 'pqn4k-2', 'pqn4k', 'obits', 'v4-classification-pledges', 'v3-classification-pledges', 'v2-classification-pledges', 'v1-classification-pledge', 'v9-articles-echantillonnes-nv-codage', '20250318-voix-younes', '20250318-voix-raphael', '20250318-voix-imane', '20250318-voix-adam', '20250318-opinion-raphael', '20250318-opinion-adam', '20250318-discours-opinion-younes', '20250318-discours-opinion-imane', 'zoubidouzoubida', 'cues-quotes', '20250310-voix-raphael', '20250310-voix-younes', '20250310-voix-imane', '20250313-classification-events', '20250312-selection-artiste-article', 'regles', 'v8-2024-2025-10-000-articles', '20250310-selection-articles', 'stress-stress-5', 'stress-stress-4', 'stress-stress-3', 'stress-stress-1', '20250310-opinion-younes', '20250310-opinion-imane', '20250310-discours-opinion-adam', '20250310-discours-opinion-raphael', '20250305-classification-test', 'pitchfork-sentences', 'pitchfork-par', '20250305-artist-text-test', 'test', 'ttt', '1', 'project-inclass', 'sample', 'quotesinclass', 'unattributed-quotes-in-class', 'quotes-11', 'quotes-inclass1', 'unattributed-classes', 'quotes-inlass', 'quotes-mar-3', 'unattributed-quotes', 'in-class', 'quotes', 'quotes-inclass', 'soci7000', 'new-project', '20250303-vss-articles', '20250303-discours-opinion-raphael', '20250303-discours-opinion-imane', '20250303-discours-opinion-adam', '20250221-opinion-younes', 'unattribued', '250301-vss-articles-nli']\n",
      "Project 316-2 saved with 1 schemes\n",
      "HTTPSConnectionPool(host='projet-datalab-gpu-40gb-609227-user.lab.groupe-genes.fr', port=443): Max retries exceeded with url: /static/316-2/316-2_data_all.parquet (Caused by SSLError(SSLCertVerificationError(1, '[SSL: CERTIFICATE_VERIFY_FAILED] certificate verify failed: unable to get local issuer certificate (_ssl.c:1006)')))\n",
      "No test found\n",
      "Project v17 saved with 1 schemes\n",
      "HTTPSConnectionPool(host='projet-datalab-gpu-40gb-609227-user.lab.groupe-genes.fr', port=443): Max retries exceeded with url: /static/v17/v17_data_all.parquet (Caused by SSLError(SSLCertVerificationError(1, '[SSL: CERTIFICATE_VERIFY_FAILED] certificate verify failed: unable to get local issuer certificate (_ssl.c:1006)')))\n",
      "Project 316-100 saved with 1 schemes\n",
      "HTTPSConnectionPool(host='projet-datalab-gpu-40gb-609227-user.lab.groupe-genes.fr', port=443): Max retries exceeded with url: /static/316-100/316-100_data_all.parquet (Caused by SSLError(SSLCertVerificationError(1, '[SSL: CERTIFICATE_VERIFY_FAILED] certificate verify failed: unable to get local issuer certificate (_ssl.c:1006)')))\n",
      "No test found\n",
      "Project 20250328-conseiller-raphael saved with 1 schemes\n",
      "HTTPSConnectionPool(host='projet-datalab-gpu-40gb-609227-user.lab.groupe-genes.fr', port=443): Max retries exceeded with url: /static/20250328-conseiller-raphael/20250328-conseiller-raphael_data_all.parquet (Caused by SSLError(SSLCertVerificationError(1, '[SSL: CERTIFICATE_VERIFY_FAILED] certificate verify failed: unable to get local issuer certificate (_ssl.c:1006)')))\n",
      "No test found\n",
      "Project 20250328-conseiller-adam saved with 1 schemes\n",
      "HTTPSConnectionPool(host='projet-datalab-gpu-40gb-609227-user.lab.groupe-genes.fr', port=443): Max retries exceeded with url: /static/20250328-conseiller-adam/20250328-conseiller-adam_data_all.parquet (Caused by SSLError(SSLCertVerificationError(1, '[SSL: CERTIFICATE_VERIFY_FAILED] certificate verify failed: unable to get local issuer certificate (_ssl.c:1006)')))\n",
      "No test found\n",
      "Project 20250328-prophetie-younes saved with 1 schemes\n",
      "HTTPSConnectionPool(host='projet-datalab-gpu-40gb-609227-user.lab.groupe-genes.fr', port=443): Max retries exceeded with url: /static/20250328-prophetie-younes/20250328-prophetie-younes_data_all.parquet (Caused by SSLError(SSLCertVerificationError(1, '[SSL: CERTIFICATE_VERIFY_FAILED] certificate verify failed: unable to get local issuer certificate (_ssl.c:1006)')))\n",
      "No test found\n",
      "Project 20250328-prophetie-imane saved with 1 schemes\n",
      "HTTPSConnectionPool(host='projet-datalab-gpu-40gb-609227-user.lab.groupe-genes.fr', port=443): Max retries exceeded with url: /static/20250328-prophetie-imane/20250328-prophetie-imane_data_all.parquet (Caused by SSLError(SSLCertVerificationError(1, '[SSL: CERTIFICATE_VERIFY_FAILED] certificate verify failed: unable to get local issuer certificate (_ssl.c:1006)')))\n",
      "No test found\n",
      "Project v6-classification-pledges-en saved with 1 schemes\n",
      "HTTPSConnectionPool(host='projet-datalab-gpu-40gb-609227-user.lab.groupe-genes.fr', port=443): Max retries exceeded with url: /static/v6-classification-pledges-en/v6-classification-pledges-en_data_all.parquet (Caused by SSLError(SSLCertVerificationError(1, '[SSL: CERTIFICATE_VERIFY_FAILED] certificate verify failed: unable to get local issuer certificate (_ssl.c:1006)')))\n",
      "No test found\n",
      "No test found\n",
      "Project v5-classification-pledges-en saved with 2 schemes\n",
      "HTTPSConnectionPool(host='projet-datalab-gpu-40gb-609227-user.lab.groupe-genes.fr', port=443): Max retries exceeded with url: /static/v5-classification-pledges-en/v5-classification-pledges-en_data_all.parquet (Caused by SSLError(SSLCertVerificationError(1, '[SSL: CERTIFICATE_VERIFY_FAILED] certificate verify failed: unable to get local issuer certificate (_ssl.c:1006)')))\n",
      "Project 20news-2 saved with 2 schemes\n",
      "HTTPSConnectionPool(host='projet-datalab-gpu-40gb-609227-user.lab.groupe-genes.fr', port=443): Max retries exceeded with url: /static/20news-2/20news-2_data_all.parquet (Caused by SSLError(SSLCertVerificationError(1, '[SSL: CERTIFICATE_VERIFY_FAILED] certificate verify failed: unable to get local issuer certificate (_ssl.c:1006)')))\n",
      "No test found\n",
      "No test found\n",
      "Project 20news saved with 2 schemes\n",
      "HTTPSConnectionPool(host='projet-datalab-gpu-40gb-609227-user.lab.groupe-genes.fr', port=443): Max retries exceeded with url: /static/20news/20news_data_all.parquet (Caused by SSLError(SSLCertVerificationError(1, '[SSL: CERTIFICATE_VERIFY_FAILED] certificate verify failed: unable to get local issuer certificate (_ssl.c:1006)')))\n",
      "No test found\n",
      "No test found\n",
      "Project genre3 saved with 2 schemes\n",
      "HTTPSConnectionPool(host='projet-datalab-gpu-40gb-609227-user.lab.groupe-genes.fr', port=443): Max retries exceeded with url: /static/genre3/genre3_data_all.parquet (Caused by SSLError(SSLCertVerificationError(1, '[SSL: CERTIFICATE_VERIFY_FAILED] certificate verify failed: unable to get local issuer certificate (_ssl.c:1006)')))\n",
      "Project pqn40k-2 saved with 2 schemes\n"
     ]
    },
    {
     "ename": "KeyboardInterrupt",
     "evalue": "",
     "output_type": "error",
     "traceback": [
      "\u001b[0;31m---------------------------------------------------------------------------\u001b[0m",
      "\u001b[0;31mKeyboardInterrupt\u001b[0m                         Traceback (most recent call last)",
      "Cell \u001b[0;32mIn[3], line 1\u001b[0m\n\u001b[0;32m----> 1\u001b[0m api\u001b[38;5;241m.\u001b[39mexport_all(path\u001b[38;5;241m=\u001b[39m\u001b[38;5;124m\"\u001b[39m\u001b[38;5;124m./exports\u001b[39m\u001b[38;5;124m\"\u001b[39m, raw_datasets\u001b[38;5;241m=\u001b[39m\u001b[38;5;28;01mTrue\u001b[39;00m)\n",
      "File \u001b[0;32m~/Dropbox/CREST/ActiveTigger/activetigger-client/notebooks/../atclient/pyactivetigger.py:558\u001b[0m, in \u001b[0;36mAtApi.export_all\u001b[0;34m(self, path, raw_datasets)\u001b[0m\n\u001b[1;32m    556\u001b[0m \u001b[38;5;28mprint\u001b[39m(projects)\n\u001b[1;32m    557\u001b[0m \u001b[38;5;28;01mfor\u001b[39;00m project \u001b[38;5;129;01min\u001b[39;00m projects:\n\u001b[0;32m--> 558\u001b[0m     \u001b[38;5;28mself\u001b[39m\u001b[38;5;241m.\u001b[39mexport_project(project, path, raw_datasets)\n",
      "File \u001b[0;32m~/Dropbox/CREST/ActiveTigger/activetigger-client/notebooks/../atclient/pyactivetigger.py:547\u001b[0m, in \u001b[0;36mAtApi.export_project\u001b[0;34m(self, project_slug, path, raw_datasets)\u001b[0m\n\u001b[1;32m    545\u001b[0m \u001b[38;5;66;03m# export raw dataset\u001b[39;00m\n\u001b[1;32m    546\u001b[0m \u001b[38;5;28;01mif\u001b[39;00m raw_datasets:\n\u001b[0;32m--> 547\u001b[0m     \u001b[38;5;28mself\u001b[39m\u001b[38;5;241m.\u001b[39mdownload_raw_dataset(project_slug, path_project)\n\u001b[1;32m    549\u001b[0m \u001b[38;5;28;01mreturn\u001b[39;00m \u001b[38;5;28;01mNone\u001b[39;00m\n",
      "File \u001b[0;32m~/Dropbox/CREST/ActiveTigger/activetigger-client/notebooks/../atclient/pyactivetigger.py:490\u001b[0m, in \u001b[0;36mAtApi.download_raw_dataset\u001b[0;34m(self, project_slug, folder)\u001b[0m\n\u001b[1;32m    488\u001b[0m \u001b[38;5;28;01mif\u001b[39;00m \u001b[38;5;129;01mnot\u001b[39;00m \u001b[38;5;28mself\u001b[39m\u001b[38;5;241m.\u001b[39mheaders:\n\u001b[1;32m    489\u001b[0m     \u001b[38;5;28;01mraise\u001b[39;00m \u001b[38;5;167;01mException\u001b[39;00m(\u001b[38;5;124m\"\u001b[39m\u001b[38;5;124mNo token found\u001b[39m\u001b[38;5;124m\"\u001b[39m)\n\u001b[0;32m--> 490\u001b[0m r \u001b[38;5;241m=\u001b[39m requests\u001b[38;5;241m.\u001b[39mget(\n\u001b[1;32m    491\u001b[0m     \u001b[38;5;124mf\u001b[39m\u001b[38;5;124m\"\u001b[39m\u001b[38;5;132;01m{\u001b[39;00m\u001b[38;5;28mself\u001b[39m\u001b[38;5;241m.\u001b[39murl\u001b[38;5;132;01m}\u001b[39;00m\u001b[38;5;124m/export/raw\u001b[39m\u001b[38;5;124m\"\u001b[39m,\n\u001b[1;32m    492\u001b[0m     headers\u001b[38;5;241m=\u001b[39m\u001b[38;5;28mself\u001b[39m\u001b[38;5;241m.\u001b[39mheaders,\n\u001b[1;32m    493\u001b[0m     verify\u001b[38;5;241m=\u001b[39m\u001b[38;5;28;01mFalse\u001b[39;00m,\n\u001b[1;32m    494\u001b[0m     params\u001b[38;5;241m=\u001b[39m{\u001b[38;5;124m\"\u001b[39m\u001b[38;5;124mproject_slug\u001b[39m\u001b[38;5;124m\"\u001b[39m: project_slug},\n\u001b[1;32m    495\u001b[0m )\n\u001b[1;32m    496\u001b[0m \u001b[38;5;28;01mtry\u001b[39;00m:\n\u001b[1;32m    497\u001b[0m     r \u001b[38;5;241m=\u001b[39m r\u001b[38;5;241m.\u001b[39mjson()\n",
      "File \u001b[0;32m/opt/anaconda3/lib/python3.11/site-packages/requests/api.py:73\u001b[0m, in \u001b[0;36mget\u001b[0;34m(url, params, **kwargs)\u001b[0m\n\u001b[1;32m     62\u001b[0m \u001b[38;5;28;01mdef\u001b[39;00m \u001b[38;5;21mget\u001b[39m(url, params\u001b[38;5;241m=\u001b[39m\u001b[38;5;28;01mNone\u001b[39;00m, \u001b[38;5;241m*\u001b[39m\u001b[38;5;241m*\u001b[39mkwargs):\n\u001b[1;32m     63\u001b[0m \u001b[38;5;250m    \u001b[39m\u001b[38;5;124mr\u001b[39m\u001b[38;5;124;03m\"\"\"Sends a GET request.\u001b[39;00m\n\u001b[1;32m     64\u001b[0m \n\u001b[1;32m     65\u001b[0m \u001b[38;5;124;03m    :param url: URL for the new :class:`Request` object.\u001b[39;00m\n\u001b[0;32m   (...)\u001b[0m\n\u001b[1;32m     70\u001b[0m \u001b[38;5;124;03m    :rtype: requests.Response\u001b[39;00m\n\u001b[1;32m     71\u001b[0m \u001b[38;5;124;03m    \"\"\"\u001b[39;00m\n\u001b[0;32m---> 73\u001b[0m     \u001b[38;5;28;01mreturn\u001b[39;00m request(\u001b[38;5;124m\"\u001b[39m\u001b[38;5;124mget\u001b[39m\u001b[38;5;124m\"\u001b[39m, url, params\u001b[38;5;241m=\u001b[39mparams, \u001b[38;5;241m*\u001b[39m\u001b[38;5;241m*\u001b[39mkwargs)\n",
      "File \u001b[0;32m/opt/anaconda3/lib/python3.11/site-packages/requests/api.py:59\u001b[0m, in \u001b[0;36mrequest\u001b[0;34m(method, url, **kwargs)\u001b[0m\n\u001b[1;32m     55\u001b[0m \u001b[38;5;66;03m# By using the 'with' statement we are sure the session is closed, thus we\u001b[39;00m\n\u001b[1;32m     56\u001b[0m \u001b[38;5;66;03m# avoid leaving sockets open which can trigger a ResourceWarning in some\u001b[39;00m\n\u001b[1;32m     57\u001b[0m \u001b[38;5;66;03m# cases, and look like a memory leak in others.\u001b[39;00m\n\u001b[1;32m     58\u001b[0m \u001b[38;5;28;01mwith\u001b[39;00m sessions\u001b[38;5;241m.\u001b[39mSession() \u001b[38;5;28;01mas\u001b[39;00m session:\n\u001b[0;32m---> 59\u001b[0m     \u001b[38;5;28;01mreturn\u001b[39;00m session\u001b[38;5;241m.\u001b[39mrequest(method\u001b[38;5;241m=\u001b[39mmethod, url\u001b[38;5;241m=\u001b[39murl, \u001b[38;5;241m*\u001b[39m\u001b[38;5;241m*\u001b[39mkwargs)\n",
      "File \u001b[0;32m/opt/anaconda3/lib/python3.11/site-packages/requests/sessions.py:589\u001b[0m, in \u001b[0;36mSession.request\u001b[0;34m(self, method, url, params, data, headers, cookies, files, auth, timeout, allow_redirects, proxies, hooks, stream, verify, cert, json)\u001b[0m\n\u001b[1;32m    584\u001b[0m send_kwargs \u001b[38;5;241m=\u001b[39m {\n\u001b[1;32m    585\u001b[0m     \u001b[38;5;124m\"\u001b[39m\u001b[38;5;124mtimeout\u001b[39m\u001b[38;5;124m\"\u001b[39m: timeout,\n\u001b[1;32m    586\u001b[0m     \u001b[38;5;124m\"\u001b[39m\u001b[38;5;124mallow_redirects\u001b[39m\u001b[38;5;124m\"\u001b[39m: allow_redirects,\n\u001b[1;32m    587\u001b[0m }\n\u001b[1;32m    588\u001b[0m send_kwargs\u001b[38;5;241m.\u001b[39mupdate(settings)\n\u001b[0;32m--> 589\u001b[0m resp \u001b[38;5;241m=\u001b[39m \u001b[38;5;28mself\u001b[39m\u001b[38;5;241m.\u001b[39msend(prep, \u001b[38;5;241m*\u001b[39m\u001b[38;5;241m*\u001b[39msend_kwargs)\n\u001b[1;32m    591\u001b[0m \u001b[38;5;28;01mreturn\u001b[39;00m resp\n",
      "File \u001b[0;32m/opt/anaconda3/lib/python3.11/site-packages/requests/sessions.py:703\u001b[0m, in \u001b[0;36mSession.send\u001b[0;34m(self, request, **kwargs)\u001b[0m\n\u001b[1;32m    700\u001b[0m start \u001b[38;5;241m=\u001b[39m preferred_clock()\n\u001b[1;32m    702\u001b[0m \u001b[38;5;66;03m# Send the request\u001b[39;00m\n\u001b[0;32m--> 703\u001b[0m r \u001b[38;5;241m=\u001b[39m adapter\u001b[38;5;241m.\u001b[39msend(request, \u001b[38;5;241m*\u001b[39m\u001b[38;5;241m*\u001b[39mkwargs)\n\u001b[1;32m    705\u001b[0m \u001b[38;5;66;03m# Total elapsed time of the request (approximately)\u001b[39;00m\n\u001b[1;32m    706\u001b[0m elapsed \u001b[38;5;241m=\u001b[39m preferred_clock() \u001b[38;5;241m-\u001b[39m start\n",
      "File \u001b[0;32m/opt/anaconda3/lib/python3.11/site-packages/requests/adapters.py:589\u001b[0m, in \u001b[0;36mHTTPAdapter.send\u001b[0;34m(self, request, stream, timeout, verify, cert, proxies)\u001b[0m\n\u001b[1;32m    586\u001b[0m     timeout \u001b[38;5;241m=\u001b[39m TimeoutSauce(connect\u001b[38;5;241m=\u001b[39mtimeout, read\u001b[38;5;241m=\u001b[39mtimeout)\n\u001b[1;32m    588\u001b[0m \u001b[38;5;28;01mtry\u001b[39;00m:\n\u001b[0;32m--> 589\u001b[0m     resp \u001b[38;5;241m=\u001b[39m conn\u001b[38;5;241m.\u001b[39murlopen(\n\u001b[1;32m    590\u001b[0m         method\u001b[38;5;241m=\u001b[39mrequest\u001b[38;5;241m.\u001b[39mmethod,\n\u001b[1;32m    591\u001b[0m         url\u001b[38;5;241m=\u001b[39murl,\n\u001b[1;32m    592\u001b[0m         body\u001b[38;5;241m=\u001b[39mrequest\u001b[38;5;241m.\u001b[39mbody,\n\u001b[1;32m    593\u001b[0m         headers\u001b[38;5;241m=\u001b[39mrequest\u001b[38;5;241m.\u001b[39mheaders,\n\u001b[1;32m    594\u001b[0m         redirect\u001b[38;5;241m=\u001b[39m\u001b[38;5;28;01mFalse\u001b[39;00m,\n\u001b[1;32m    595\u001b[0m         assert_same_host\u001b[38;5;241m=\u001b[39m\u001b[38;5;28;01mFalse\u001b[39;00m,\n\u001b[1;32m    596\u001b[0m         preload_content\u001b[38;5;241m=\u001b[39m\u001b[38;5;28;01mFalse\u001b[39;00m,\n\u001b[1;32m    597\u001b[0m         decode_content\u001b[38;5;241m=\u001b[39m\u001b[38;5;28;01mFalse\u001b[39;00m,\n\u001b[1;32m    598\u001b[0m         retries\u001b[38;5;241m=\u001b[39m\u001b[38;5;28mself\u001b[39m\u001b[38;5;241m.\u001b[39mmax_retries,\n\u001b[1;32m    599\u001b[0m         timeout\u001b[38;5;241m=\u001b[39mtimeout,\n\u001b[1;32m    600\u001b[0m         chunked\u001b[38;5;241m=\u001b[39mchunked,\n\u001b[1;32m    601\u001b[0m     )\n\u001b[1;32m    603\u001b[0m \u001b[38;5;28;01mexcept\u001b[39;00m (ProtocolError, \u001b[38;5;167;01mOSError\u001b[39;00m) \u001b[38;5;28;01mas\u001b[39;00m err:\n\u001b[1;32m    604\u001b[0m     \u001b[38;5;28;01mraise\u001b[39;00m \u001b[38;5;167;01mConnectionError\u001b[39;00m(err, request\u001b[38;5;241m=\u001b[39mrequest)\n",
      "File \u001b[0;32m/opt/anaconda3/lib/python3.11/site-packages/urllib3/connectionpool.py:715\u001b[0m, in \u001b[0;36mHTTPConnectionPool.urlopen\u001b[0;34m(self, method, url, body, headers, retries, redirect, assert_same_host, timeout, pool_timeout, release_conn, chunked, body_pos, **response_kw)\u001b[0m\n\u001b[1;32m    712\u001b[0m     \u001b[38;5;28mself\u001b[39m\u001b[38;5;241m.\u001b[39m_prepare_proxy(conn)\n\u001b[1;32m    714\u001b[0m \u001b[38;5;66;03m# Make the request on the httplib connection object.\u001b[39;00m\n\u001b[0;32m--> 715\u001b[0m httplib_response \u001b[38;5;241m=\u001b[39m \u001b[38;5;28mself\u001b[39m\u001b[38;5;241m.\u001b[39m_make_request(\n\u001b[1;32m    716\u001b[0m     conn,\n\u001b[1;32m    717\u001b[0m     method,\n\u001b[1;32m    718\u001b[0m     url,\n\u001b[1;32m    719\u001b[0m     timeout\u001b[38;5;241m=\u001b[39mtimeout_obj,\n\u001b[1;32m    720\u001b[0m     body\u001b[38;5;241m=\u001b[39mbody,\n\u001b[1;32m    721\u001b[0m     headers\u001b[38;5;241m=\u001b[39mheaders,\n\u001b[1;32m    722\u001b[0m     chunked\u001b[38;5;241m=\u001b[39mchunked,\n\u001b[1;32m    723\u001b[0m )\n\u001b[1;32m    725\u001b[0m \u001b[38;5;66;03m# If we're going to release the connection in ``finally:``, then\u001b[39;00m\n\u001b[1;32m    726\u001b[0m \u001b[38;5;66;03m# the response doesn't need to know about the connection. Otherwise\u001b[39;00m\n\u001b[1;32m    727\u001b[0m \u001b[38;5;66;03m# it will also try to release it and we'll have a double-release\u001b[39;00m\n\u001b[1;32m    728\u001b[0m \u001b[38;5;66;03m# mess.\u001b[39;00m\n\u001b[1;32m    729\u001b[0m response_conn \u001b[38;5;241m=\u001b[39m conn \u001b[38;5;28;01mif\u001b[39;00m \u001b[38;5;129;01mnot\u001b[39;00m release_conn \u001b[38;5;28;01melse\u001b[39;00m \u001b[38;5;28;01mNone\u001b[39;00m\n",
      "File \u001b[0;32m/opt/anaconda3/lib/python3.11/site-packages/urllib3/connectionpool.py:467\u001b[0m, in \u001b[0;36mHTTPConnectionPool._make_request\u001b[0;34m(self, conn, method, url, timeout, chunked, **httplib_request_kw)\u001b[0m\n\u001b[1;32m    462\u001b[0m             httplib_response \u001b[38;5;241m=\u001b[39m conn\u001b[38;5;241m.\u001b[39mgetresponse()\n\u001b[1;32m    463\u001b[0m         \u001b[38;5;28;01mexcept\u001b[39;00m \u001b[38;5;167;01mBaseException\u001b[39;00m \u001b[38;5;28;01mas\u001b[39;00m e:\n\u001b[1;32m    464\u001b[0m             \u001b[38;5;66;03m# Remove the TypeError from the exception chain in\u001b[39;00m\n\u001b[1;32m    465\u001b[0m             \u001b[38;5;66;03m# Python 3 (including for exceptions like SystemExit).\u001b[39;00m\n\u001b[1;32m    466\u001b[0m             \u001b[38;5;66;03m# Otherwise it looks like a bug in the code.\u001b[39;00m\n\u001b[0;32m--> 467\u001b[0m             six\u001b[38;5;241m.\u001b[39mraise_from(e, \u001b[38;5;28;01mNone\u001b[39;00m)\n\u001b[1;32m    468\u001b[0m \u001b[38;5;28;01mexcept\u001b[39;00m (SocketTimeout, BaseSSLError, SocketError) \u001b[38;5;28;01mas\u001b[39;00m e:\n\u001b[1;32m    469\u001b[0m     \u001b[38;5;28mself\u001b[39m\u001b[38;5;241m.\u001b[39m_raise_timeout(err\u001b[38;5;241m=\u001b[39me, url\u001b[38;5;241m=\u001b[39murl, timeout_value\u001b[38;5;241m=\u001b[39mread_timeout)\n",
      "File \u001b[0;32m<string>:3\u001b[0m, in \u001b[0;36mraise_from\u001b[0;34m(value, from_value)\u001b[0m\n",
      "File \u001b[0;32m/opt/anaconda3/lib/python3.11/site-packages/urllib3/connectionpool.py:462\u001b[0m, in \u001b[0;36mHTTPConnectionPool._make_request\u001b[0;34m(self, conn, method, url, timeout, chunked, **httplib_request_kw)\u001b[0m\n\u001b[1;32m    459\u001b[0m \u001b[38;5;28;01mexcept\u001b[39;00m \u001b[38;5;167;01mTypeError\u001b[39;00m:\n\u001b[1;32m    460\u001b[0m     \u001b[38;5;66;03m# Python 3\u001b[39;00m\n\u001b[1;32m    461\u001b[0m     \u001b[38;5;28;01mtry\u001b[39;00m:\n\u001b[0;32m--> 462\u001b[0m         httplib_response \u001b[38;5;241m=\u001b[39m conn\u001b[38;5;241m.\u001b[39mgetresponse()\n\u001b[1;32m    463\u001b[0m     \u001b[38;5;28;01mexcept\u001b[39;00m \u001b[38;5;167;01mBaseException\u001b[39;00m \u001b[38;5;28;01mas\u001b[39;00m e:\n\u001b[1;32m    464\u001b[0m         \u001b[38;5;66;03m# Remove the TypeError from the exception chain in\u001b[39;00m\n\u001b[1;32m    465\u001b[0m         \u001b[38;5;66;03m# Python 3 (including for exceptions like SystemExit).\u001b[39;00m\n\u001b[1;32m    466\u001b[0m         \u001b[38;5;66;03m# Otherwise it looks like a bug in the code.\u001b[39;00m\n\u001b[1;32m    467\u001b[0m         six\u001b[38;5;241m.\u001b[39mraise_from(e, \u001b[38;5;28;01mNone\u001b[39;00m)\n",
      "File \u001b[0;32m/opt/anaconda3/lib/python3.11/http/client.py:1386\u001b[0m, in \u001b[0;36mHTTPConnection.getresponse\u001b[0;34m(self)\u001b[0m\n\u001b[1;32m   1384\u001b[0m \u001b[38;5;28;01mtry\u001b[39;00m:\n\u001b[1;32m   1385\u001b[0m     \u001b[38;5;28;01mtry\u001b[39;00m:\n\u001b[0;32m-> 1386\u001b[0m         response\u001b[38;5;241m.\u001b[39mbegin()\n\u001b[1;32m   1387\u001b[0m     \u001b[38;5;28;01mexcept\u001b[39;00m \u001b[38;5;167;01mConnectionError\u001b[39;00m:\n\u001b[1;32m   1388\u001b[0m         \u001b[38;5;28mself\u001b[39m\u001b[38;5;241m.\u001b[39mclose()\n",
      "File \u001b[0;32m/opt/anaconda3/lib/python3.11/http/client.py:325\u001b[0m, in \u001b[0;36mHTTPResponse.begin\u001b[0;34m(self)\u001b[0m\n\u001b[1;32m    323\u001b[0m \u001b[38;5;66;03m# read until we get a non-100 response\u001b[39;00m\n\u001b[1;32m    324\u001b[0m \u001b[38;5;28;01mwhile\u001b[39;00m \u001b[38;5;28;01mTrue\u001b[39;00m:\n\u001b[0;32m--> 325\u001b[0m     version, status, reason \u001b[38;5;241m=\u001b[39m \u001b[38;5;28mself\u001b[39m\u001b[38;5;241m.\u001b[39m_read_status()\n\u001b[1;32m    326\u001b[0m     \u001b[38;5;28;01mif\u001b[39;00m status \u001b[38;5;241m!=\u001b[39m CONTINUE:\n\u001b[1;32m    327\u001b[0m         \u001b[38;5;28;01mbreak\u001b[39;00m\n",
      "File \u001b[0;32m/opt/anaconda3/lib/python3.11/http/client.py:286\u001b[0m, in \u001b[0;36mHTTPResponse._read_status\u001b[0;34m(self)\u001b[0m\n\u001b[1;32m    285\u001b[0m \u001b[38;5;28;01mdef\u001b[39;00m \u001b[38;5;21m_read_status\u001b[39m(\u001b[38;5;28mself\u001b[39m):\n\u001b[0;32m--> 286\u001b[0m     line \u001b[38;5;241m=\u001b[39m \u001b[38;5;28mstr\u001b[39m(\u001b[38;5;28mself\u001b[39m\u001b[38;5;241m.\u001b[39mfp\u001b[38;5;241m.\u001b[39mreadline(_MAXLINE \u001b[38;5;241m+\u001b[39m \u001b[38;5;241m1\u001b[39m), \u001b[38;5;124m\"\u001b[39m\u001b[38;5;124miso-8859-1\u001b[39m\u001b[38;5;124m\"\u001b[39m)\n\u001b[1;32m    287\u001b[0m     \u001b[38;5;28;01mif\u001b[39;00m \u001b[38;5;28mlen\u001b[39m(line) \u001b[38;5;241m>\u001b[39m _MAXLINE:\n\u001b[1;32m    288\u001b[0m         \u001b[38;5;28;01mraise\u001b[39;00m LineTooLong(\u001b[38;5;124m\"\u001b[39m\u001b[38;5;124mstatus line\u001b[39m\u001b[38;5;124m\"\u001b[39m)\n",
      "File \u001b[0;32m/opt/anaconda3/lib/python3.11/socket.py:706\u001b[0m, in \u001b[0;36mSocketIO.readinto\u001b[0;34m(self, b)\u001b[0m\n\u001b[1;32m    704\u001b[0m \u001b[38;5;28;01mwhile\u001b[39;00m \u001b[38;5;28;01mTrue\u001b[39;00m:\n\u001b[1;32m    705\u001b[0m     \u001b[38;5;28;01mtry\u001b[39;00m:\n\u001b[0;32m--> 706\u001b[0m         \u001b[38;5;28;01mreturn\u001b[39;00m \u001b[38;5;28mself\u001b[39m\u001b[38;5;241m.\u001b[39m_sock\u001b[38;5;241m.\u001b[39mrecv_into(b)\n\u001b[1;32m    707\u001b[0m     \u001b[38;5;28;01mexcept\u001b[39;00m timeout:\n\u001b[1;32m    708\u001b[0m         \u001b[38;5;28mself\u001b[39m\u001b[38;5;241m.\u001b[39m_timeout_occurred \u001b[38;5;241m=\u001b[39m \u001b[38;5;28;01mTrue\u001b[39;00m\n",
      "File \u001b[0;32m/opt/anaconda3/lib/python3.11/ssl.py:1315\u001b[0m, in \u001b[0;36mSSLSocket.recv_into\u001b[0;34m(self, buffer, nbytes, flags)\u001b[0m\n\u001b[1;32m   1311\u001b[0m     \u001b[38;5;28;01mif\u001b[39;00m flags \u001b[38;5;241m!=\u001b[39m \u001b[38;5;241m0\u001b[39m:\n\u001b[1;32m   1312\u001b[0m         \u001b[38;5;28;01mraise\u001b[39;00m \u001b[38;5;167;01mValueError\u001b[39;00m(\n\u001b[1;32m   1313\u001b[0m           \u001b[38;5;124m\"\u001b[39m\u001b[38;5;124mnon-zero flags not allowed in calls to recv_into() on \u001b[39m\u001b[38;5;132;01m%s\u001b[39;00m\u001b[38;5;124m\"\u001b[39m \u001b[38;5;241m%\u001b[39m\n\u001b[1;32m   1314\u001b[0m           \u001b[38;5;28mself\u001b[39m\u001b[38;5;241m.\u001b[39m\u001b[38;5;18m__class__\u001b[39m)\n\u001b[0;32m-> 1315\u001b[0m     \u001b[38;5;28;01mreturn\u001b[39;00m \u001b[38;5;28mself\u001b[39m\u001b[38;5;241m.\u001b[39mread(nbytes, buffer)\n\u001b[1;32m   1316\u001b[0m \u001b[38;5;28;01melse\u001b[39;00m:\n\u001b[1;32m   1317\u001b[0m     \u001b[38;5;28;01mreturn\u001b[39;00m \u001b[38;5;28msuper\u001b[39m()\u001b[38;5;241m.\u001b[39mrecv_into(buffer, nbytes, flags)\n",
      "File \u001b[0;32m/opt/anaconda3/lib/python3.11/ssl.py:1167\u001b[0m, in \u001b[0;36mSSLSocket.read\u001b[0;34m(self, len, buffer)\u001b[0m\n\u001b[1;32m   1165\u001b[0m \u001b[38;5;28;01mtry\u001b[39;00m:\n\u001b[1;32m   1166\u001b[0m     \u001b[38;5;28;01mif\u001b[39;00m buffer \u001b[38;5;129;01mis\u001b[39;00m \u001b[38;5;129;01mnot\u001b[39;00m \u001b[38;5;28;01mNone\u001b[39;00m:\n\u001b[0;32m-> 1167\u001b[0m         \u001b[38;5;28;01mreturn\u001b[39;00m \u001b[38;5;28mself\u001b[39m\u001b[38;5;241m.\u001b[39m_sslobj\u001b[38;5;241m.\u001b[39mread(\u001b[38;5;28mlen\u001b[39m, buffer)\n\u001b[1;32m   1168\u001b[0m     \u001b[38;5;28;01melse\u001b[39;00m:\n\u001b[1;32m   1169\u001b[0m         \u001b[38;5;28;01mreturn\u001b[39;00m \u001b[38;5;28mself\u001b[39m\u001b[38;5;241m.\u001b[39m_sslobj\u001b[38;5;241m.\u001b[39mread(\u001b[38;5;28mlen\u001b[39m)\n",
      "\u001b[0;31mKeyboardInterrupt\u001b[0m: "
     ]
    }
   ],
   "source": [
    "api.export_all(path=\"./exports\", raw_datasets=True)"
   ]
  },
  {
   "cell_type": "markdown",
   "metadata": {},
   "source": [
    "### Users management"
   ]
  },
  {
   "cell_type": "markdown",
   "metadata": {},
   "source": [
    "Existing active users"
   ]
  },
  {
   "cell_type": "code",
   "execution_count": 14,
   "metadata": {},
   "outputs": [
    {
     "data": {
      "text/plain": [
       "{'root': {'contact': ''}, 'test3': {'contact': 'test@test.fr'}}"
      ]
     },
     "execution_count": 14,
     "metadata": {},
     "output_type": "execute_result"
    }
   ],
   "source": [
    "api.get_users()[\"users\"]"
   ]
  },
  {
   "cell_type": "markdown",
   "metadata": {},
   "source": [
    "Add"
   ]
  },
  {
   "cell_type": "code",
   "execution_count": 13,
   "metadata": {},
   "outputs": [
    {
     "name": "stdout",
     "output_type": "stream",
     "text": [
      "User created\n"
     ]
    }
   ],
   "source": [
    "api.add_user(\"test3\", \"test3\", \"test@test.fr\")"
   ]
  },
  {
   "cell_type": "markdown",
   "metadata": {},
   "source": [
    "Delete"
   ]
  },
  {
   "cell_type": "code",
   "execution_count": 9,
   "metadata": {},
   "outputs": [
    {
     "name": "stdout",
     "output_type": "stream",
     "text": [
      "User deleted\n"
     ]
    }
   ],
   "source": [
    "api.delete_user(\"test\")"
   ]
  },
  {
   "cell_type": "markdown",
   "metadata": {},
   "source": [
    "Add Auth for a project"
   ]
  },
  {
   "cell_type": "code",
   "execution_count": 15,
   "metadata": {},
   "outputs": [
    {
     "name": "stdout",
     "output_type": "stream",
     "text": [
      "Auth added to user\n"
     ]
    }
   ],
   "source": [
    "api.add_auth_user_project(\"test3\", \"nouveau-projet-3\", \"manager\")"
   ]
  },
  {
   "cell_type": "markdown",
   "metadata": {},
   "source": [
    "Delete Auth for a project"
   ]
  },
  {
   "cell_type": "code",
   "execution_count": 16,
   "metadata": {},
   "outputs": [
    {
     "name": "stdout",
     "output_type": "stream",
     "text": [
      "Auth deleted for user\n"
     ]
    }
   ],
   "source": [
    "api.delete_auth_user_project(\"test3\", \"nouveau-projet-3\")"
   ]
  },
  {
   "cell_type": "markdown",
   "metadata": {},
   "source": [
    "### Get project state"
   ]
  },
  {
   "cell_type": "code",
   "execution_count": 21,
   "metadata": {},
   "outputs": [],
   "source": [
    "state = api.get_project_state(\"nouveau-projet-3\")"
   ]
  },
  {
   "cell_type": "markdown",
   "metadata": {},
   "source": [
    "### Get current annotations"
   ]
  },
  {
   "cell_type": "code",
   "execution_count": 22,
   "metadata": {},
   "outputs": [
    {
     "data": {
      "text/html": [
       "<div>\n",
       "<style scoped>\n",
       "    .dataframe tbody tr th:only-of-type {\n",
       "        vertical-align: middle;\n",
       "    }\n",
       "\n",
       "    .dataframe tbody tr th {\n",
       "        vertical-align: top;\n",
       "    }\n",
       "\n",
       "    .dataframe thead th {\n",
       "        text-align: right;\n",
       "    }\n",
       "</style>\n",
       "<table border=\"1\" class=\"dataframe\">\n",
       "  <thead>\n",
       "    <tr style=\"text-align: right;\">\n",
       "      <th></th>\n",
       "      <th>Unnamed: 0</th>\n",
       "      <th>id</th>\n",
       "      <th>dataset_id</th>\n",
       "      <th>text</th>\n",
       "      <th>limit</th>\n",
       "      <th>labels</th>\n",
       "      <th>user</th>\n",
       "      <th>timestamp</th>\n",
       "      <th>comment</th>\n",
       "    </tr>\n",
       "  </thead>\n",
       "  <tbody>\n",
       "    <tr>\n",
       "      <th>0</th>\n",
       "      <td>0</td>\n",
       "      <td>1569866966566932480</td>\n",
       "      <td>1569866966566932480</td>\n",
       "      <td>Les ENFANTS du Québec, \\nLes AÎNÉS du Québec,\\...</td>\n",
       "      <td>1200</td>\n",
       "      <td>Autre</td>\n",
       "      <td>root</td>\n",
       "      <td>2025-02-28 13:39:36.038096</td>\n",
       "      <td>NaN</td>\n",
       "    </tr>\n",
       "    <tr>\n",
       "      <th>1</th>\n",
       "      <td>1</td>\n",
       "      <td>1569919081351942144</td>\n",
       "      <td>1569919081351942144</td>\n",
       "      <td>Après avoir imposé une politique dystopique zé...</td>\n",
       "      <td>1200</td>\n",
       "      <td>Autre</td>\n",
       "      <td>root</td>\n",
       "      <td>2025-02-28 13:39:36.038150</td>\n",
       "      <td>NaN</td>\n",
       "    </tr>\n",
       "    <tr>\n",
       "      <th>2</th>\n",
       "      <td>2</td>\n",
       "      <td>1569930968026480640</td>\n",
       "      <td>1569930968026480640</td>\n",
       "      <td>@Nyonensis @DIVIZIO1 Pour le coup, si ce qu'il...</td>\n",
       "      <td>1200</td>\n",
       "      <td>Autre</td>\n",
       "      <td>root</td>\n",
       "      <td>2025-02-28 13:39:36.038174</td>\n",
       "      <td>NaN</td>\n",
       "    </tr>\n",
       "    <tr>\n",
       "      <th>3</th>\n",
       "      <td>3</td>\n",
       "      <td>1569947515465728000</td>\n",
       "      <td>1569947515465728000</td>\n",
       "      <td>@nadinecerdan @SaiyanBio @nawah_s C'est sous e...</td>\n",
       "      <td>1200</td>\n",
       "      <td>Autre</td>\n",
       "      <td>root</td>\n",
       "      <td>2025-02-28 13:39:36.038194</td>\n",
       "      <td>NaN</td>\n",
       "    </tr>\n",
       "    <tr>\n",
       "      <th>4</th>\n",
       "      <td>4</td>\n",
       "      <td>1569961852972732416</td>\n",
       "      <td>1569961852972732416</td>\n",
       "      <td>@L_ThinkTank L'achat de vaccins et d'armes ne ...</td>\n",
       "      <td>1200</td>\n",
       "      <td>Autre</td>\n",
       "      <td>root</td>\n",
       "      <td>2025-02-28 13:39:36.038212</td>\n",
       "      <td>NaN</td>\n",
       "    </tr>\n",
       "  </tbody>\n",
       "</table>\n",
       "</div>"
      ],
      "text/plain": [
       "   Unnamed: 0                   id           dataset_id  \\\n",
       "0           0  1569866966566932480  1569866966566932480   \n",
       "1           1  1569919081351942144  1569919081351942144   \n",
       "2           2  1569930968026480640  1569930968026480640   \n",
       "3           3  1569947515465728000  1569947515465728000   \n",
       "4           4  1569961852972732416  1569961852972732416   \n",
       "\n",
       "                                                text  limit labels  user  \\\n",
       "0  Les ENFANTS du Québec, \\nLes AÎNÉS du Québec,\\...   1200  Autre  root   \n",
       "1  Après avoir imposé une politique dystopique zé...   1200  Autre  root   \n",
       "2  @Nyonensis @DIVIZIO1 Pour le coup, si ce qu'il...   1200  Autre  root   \n",
       "3  @nadinecerdan @SaiyanBio @nawah_s C'est sous e...   1200  Autre  root   \n",
       "4  @L_ThinkTank L'achat de vaccins et d'armes ne ...   1200  Autre  root   \n",
       "\n",
       "                    timestamp  comment  \n",
       "0  2025-02-28 13:39:36.038096      NaN  \n",
       "1  2025-02-28 13:39:36.038150      NaN  \n",
       "2  2025-02-28 13:39:36.038174      NaN  \n",
       "3  2025-02-28 13:39:36.038194      NaN  \n",
       "4  2025-02-28 13:39:36.038212      NaN  "
      ]
     },
     "execution_count": 22,
     "metadata": {},
     "output_type": "execute_result"
    }
   ],
   "source": [
    "t = api.get_annotations_data(\"nouveau-projet-3\", \"default\")\n",
    "t.head()"
   ]
  },
  {
   "cell_type": "markdown",
   "metadata": {},
   "source": [
    "### Manage features"
   ]
  },
  {
   "cell_type": "markdown",
   "metadata": {},
   "source": [
    "Get available feature"
   ]
  },
  {
   "cell_type": "code",
   "execution_count": 23,
   "metadata": {},
   "outputs": [
    {
     "data": {
      "text/plain": [
       "dict_keys([])"
      ]
     },
     "execution_count": 23,
     "metadata": {},
     "output_type": "execute_result"
    }
   ],
   "source": [
    "r = api.get_features(\"nouveau-projet-3\")\n",
    "r.keys()"
   ]
  },
  {
   "cell_type": "markdown",
   "metadata": {},
   "source": [
    "Add a SBERT feature on the train dataset"
   ]
  },
  {
   "cell_type": "code",
   "execution_count": 24,
   "metadata": {},
   "outputs": [
    {
     "name": "stdout",
     "output_type": "stream",
     "text": [
      "b'{\"detail\":\"computing sbert, it could take a few minutes\",\"status\":\"waiting\"}'\n"
     ]
    }
   ],
   "source": [
    "api.add_feature(\"nouveau-projet-3\", \"sbert\", \"sbert\")"
   ]
  },
  {
   "cell_type": "markdown",
   "metadata": {},
   "source": [
    "Get features"
   ]
  },
  {
   "cell_type": "code",
   "execution_count": 3,
   "metadata": {},
   "outputs": [
    {
     "data": {
      "text/html": [
       "<div>\n",
       "<style scoped>\n",
       "    .dataframe tbody tr th:only-of-type {\n",
       "        vertical-align: middle;\n",
       "    }\n",
       "\n",
       "    .dataframe tbody tr th {\n",
       "        vertical-align: top;\n",
       "    }\n",
       "\n",
       "    .dataframe thead th {\n",
       "        text-align: right;\n",
       "    }\n",
       "</style>\n",
       "<table border=\"1\" class=\"dataframe\">\n",
       "  <thead>\n",
       "    <tr style=\"text-align: right;\">\n",
       "      <th></th>\n",
       "      <th>id</th>\n",
       "      <th>sbert__sb001</th>\n",
       "      <th>sbert__sb002</th>\n",
       "      <th>sbert__sb003</th>\n",
       "      <th>sbert__sb004</th>\n",
       "      <th>sbert__sb005</th>\n",
       "      <th>sbert__sb006</th>\n",
       "      <th>sbert__sb007</th>\n",
       "      <th>sbert__sb008</th>\n",
       "      <th>sbert__sb009</th>\n",
       "      <th>...</th>\n",
       "      <th>sbert__sb759</th>\n",
       "      <th>sbert__sb760</th>\n",
       "      <th>sbert__sb761</th>\n",
       "      <th>sbert__sb762</th>\n",
       "      <th>sbert__sb763</th>\n",
       "      <th>sbert__sb764</th>\n",
       "      <th>sbert__sb765</th>\n",
       "      <th>sbert__sb766</th>\n",
       "      <th>sbert__sb767</th>\n",
       "      <th>sbert__sb768</th>\n",
       "    </tr>\n",
       "  </thead>\n",
       "  <tbody>\n",
       "    <tr>\n",
       "      <th>0</th>\n",
       "      <td>1569866966566932480</td>\n",
       "      <td>-0.012411</td>\n",
       "      <td>0.069819</td>\n",
       "      <td>0.017629</td>\n",
       "      <td>0.016337</td>\n",
       "      <td>-0.005500</td>\n",
       "      <td>-0.026143</td>\n",
       "      <td>-0.026683</td>\n",
       "      <td>0.021376</td>\n",
       "      <td>0.018183</td>\n",
       "      <td>...</td>\n",
       "      <td>-0.019169</td>\n",
       "      <td>-0.028596</td>\n",
       "      <td>-0.001524</td>\n",
       "      <td>0.014563</td>\n",
       "      <td>-0.017164</td>\n",
       "      <td>-0.006479</td>\n",
       "      <td>0.050561</td>\n",
       "      <td>0.067910</td>\n",
       "      <td>0.015443</td>\n",
       "      <td>0.025394</td>\n",
       "    </tr>\n",
       "    <tr>\n",
       "      <th>1</th>\n",
       "      <td>1569919081351942144</td>\n",
       "      <td>-0.022546</td>\n",
       "      <td>0.042782</td>\n",
       "      <td>0.017333</td>\n",
       "      <td>0.020885</td>\n",
       "      <td>0.006150</td>\n",
       "      <td>-0.027854</td>\n",
       "      <td>0.007987</td>\n",
       "      <td>0.004077</td>\n",
       "      <td>0.012157</td>\n",
       "      <td>...</td>\n",
       "      <td>-0.047567</td>\n",
       "      <td>-0.020814</td>\n",
       "      <td>-0.075401</td>\n",
       "      <td>-0.075062</td>\n",
       "      <td>-0.014331</td>\n",
       "      <td>0.026679</td>\n",
       "      <td>0.014444</td>\n",
       "      <td>0.033841</td>\n",
       "      <td>-0.022563</td>\n",
       "      <td>0.030447</td>\n",
       "    </tr>\n",
       "    <tr>\n",
       "      <th>2</th>\n",
       "      <td>1569930968026480640</td>\n",
       "      <td>-0.004847</td>\n",
       "      <td>0.002958</td>\n",
       "      <td>0.048592</td>\n",
       "      <td>0.009563</td>\n",
       "      <td>0.007411</td>\n",
       "      <td>-0.012930</td>\n",
       "      <td>-0.009337</td>\n",
       "      <td>0.007568</td>\n",
       "      <td>0.024637</td>\n",
       "      <td>...</td>\n",
       "      <td>-0.043440</td>\n",
       "      <td>0.036784</td>\n",
       "      <td>-0.016663</td>\n",
       "      <td>-0.030763</td>\n",
       "      <td>-0.006885</td>\n",
       "      <td>-0.014110</td>\n",
       "      <td>0.004118</td>\n",
       "      <td>0.057386</td>\n",
       "      <td>0.037831</td>\n",
       "      <td>-0.009964</td>\n",
       "    </tr>\n",
       "    <tr>\n",
       "      <th>3</th>\n",
       "      <td>1569947515465728000</td>\n",
       "      <td>0.009454</td>\n",
       "      <td>0.005232</td>\n",
       "      <td>0.035062</td>\n",
       "      <td>0.005583</td>\n",
       "      <td>0.005241</td>\n",
       "      <td>-0.058031</td>\n",
       "      <td>0.017341</td>\n",
       "      <td>0.031192</td>\n",
       "      <td>0.062633</td>\n",
       "      <td>...</td>\n",
       "      <td>-0.027558</td>\n",
       "      <td>-0.066112</td>\n",
       "      <td>-0.060420</td>\n",
       "      <td>-0.049953</td>\n",
       "      <td>-0.013541</td>\n",
       "      <td>-0.047349</td>\n",
       "      <td>0.004409</td>\n",
       "      <td>0.056827</td>\n",
       "      <td>0.026242</td>\n",
       "      <td>-0.033341</td>\n",
       "    </tr>\n",
       "    <tr>\n",
       "      <th>4</th>\n",
       "      <td>1569961852972732416</td>\n",
       "      <td>-0.027911</td>\n",
       "      <td>0.003018</td>\n",
       "      <td>0.042799</td>\n",
       "      <td>-0.023156</td>\n",
       "      <td>-0.013802</td>\n",
       "      <td>-0.019713</td>\n",
       "      <td>0.059756</td>\n",
       "      <td>-0.028939</td>\n",
       "      <td>0.039197</td>\n",
       "      <td>...</td>\n",
       "      <td>-0.026509</td>\n",
       "      <td>-0.009135</td>\n",
       "      <td>-0.007320</td>\n",
       "      <td>-0.028597</td>\n",
       "      <td>-0.009583</td>\n",
       "      <td>0.014385</td>\n",
       "      <td>0.002206</td>\n",
       "      <td>0.035609</td>\n",
       "      <td>0.062151</td>\n",
       "      <td>-0.033790</td>\n",
       "    </tr>\n",
       "  </tbody>\n",
       "</table>\n",
       "<p>5 rows × 769 columns</p>\n",
       "</div>"
      ],
      "text/plain": [
       "                    id  sbert__sb001  sbert__sb002  sbert__sb003  \\\n",
       "0  1569866966566932480     -0.012411      0.069819      0.017629   \n",
       "1  1569919081351942144     -0.022546      0.042782      0.017333   \n",
       "2  1569930968026480640     -0.004847      0.002958      0.048592   \n",
       "3  1569947515465728000      0.009454      0.005232      0.035062   \n",
       "4  1569961852972732416     -0.027911      0.003018      0.042799   \n",
       "\n",
       "   sbert__sb004  sbert__sb005  sbert__sb006  sbert__sb007  sbert__sb008  \\\n",
       "0      0.016337     -0.005500     -0.026143     -0.026683      0.021376   \n",
       "1      0.020885      0.006150     -0.027854      0.007987      0.004077   \n",
       "2      0.009563      0.007411     -0.012930     -0.009337      0.007568   \n",
       "3      0.005583      0.005241     -0.058031      0.017341      0.031192   \n",
       "4     -0.023156     -0.013802     -0.019713      0.059756     -0.028939   \n",
       "\n",
       "   sbert__sb009  ...  sbert__sb759  sbert__sb760  sbert__sb761  sbert__sb762  \\\n",
       "0      0.018183  ...     -0.019169     -0.028596     -0.001524      0.014563   \n",
       "1      0.012157  ...     -0.047567     -0.020814     -0.075401     -0.075062   \n",
       "2      0.024637  ...     -0.043440      0.036784     -0.016663     -0.030763   \n",
       "3      0.062633  ...     -0.027558     -0.066112     -0.060420     -0.049953   \n",
       "4      0.039197  ...     -0.026509     -0.009135     -0.007320     -0.028597   \n",
       "\n",
       "   sbert__sb763  sbert__sb764  sbert__sb765  sbert__sb766  sbert__sb767  \\\n",
       "0     -0.017164     -0.006479      0.050561      0.067910      0.015443   \n",
       "1     -0.014331      0.026679      0.014444      0.033841     -0.022563   \n",
       "2     -0.006885     -0.014110      0.004118      0.057386      0.037831   \n",
       "3     -0.013541     -0.047349      0.004409      0.056827      0.026242   \n",
       "4     -0.009583      0.014385      0.002206      0.035609      0.062151   \n",
       "\n",
       "   sbert__sb768  \n",
       "0      0.025394  \n",
       "1      0.030447  \n",
       "2     -0.009964  \n",
       "3     -0.033341  \n",
       "4     -0.033790  \n",
       "\n",
       "[5 rows x 769 columns]"
      ]
     },
     "execution_count": 3,
     "metadata": {},
     "output_type": "execute_result"
    }
   ],
   "source": [
    "df = api.get_features_data(\"nouveau-projet-3\", [\"sbert\"])\n",
    "df.head()"
   ]
  },
  {
   "cell_type": "markdown",
   "metadata": {},
   "source": [
    "## Manage scheme"
   ]
  },
  {
   "cell_type": "markdown",
   "metadata": {},
   "source": [
    "Get available scheme"
   ]
  },
  {
   "cell_type": "code",
   "execution_count": 30,
   "metadata": {},
   "outputs": [
    {
     "data": {
      "text/plain": [
       "{'default': {'labels': ['Autre', 'Règles'], 'kind': 'multiclass'},\n",
       " 'test': {'labels': ['coucou', 'essai'], 'kind': 'multiclass'}}"
      ]
     },
     "execution_count": 30,
     "metadata": {},
     "output_type": "execute_result"
    }
   ],
   "source": [
    "api.get_schemes(\"nouveau-projet-3\")"
   ]
  },
  {
   "cell_type": "markdown",
   "metadata": {},
   "source": [
    "Add scheme"
   ]
  },
  {
   "cell_type": "code",
   "execution_count": 4,
   "metadata": {},
   "outputs": [
    {
     "name": "stdout",
     "output_type": "stream",
     "text": [
      "Scheme added to project\n"
     ]
    }
   ],
   "source": [
    "api.add_scheme_to_project(\"nouveau-projet-3\",\"test\",[\"coucou\",\"essai\"])"
   ]
  },
  {
   "cell_type": "markdown",
   "metadata": {},
   "source": [
    "Delete scheme"
   ]
  },
  {
   "cell_type": "code",
   "execution_count": 3,
   "metadata": {},
   "outputs": [
    {
     "name": "stdout",
     "output_type": "stream",
     "text": [
      "Scheme deleted from project\n"
     ]
    }
   ],
   "source": [
    "api.delete_scheme_from_project(\"nouveau-projet-3\",\"test\")"
   ]
  },
  {
   "cell_type": "markdown",
   "metadata": {},
   "source": [
    "Add a label to a scheme"
   ]
  },
  {
   "cell_type": "code",
   "execution_count": 6,
   "metadata": {},
   "outputs": [
    {
     "name": "stdout",
     "output_type": "stream",
     "text": [
      "Label added to scheme\n"
     ]
    }
   ],
   "source": [
    "api.add_label_to_scheme(\"nouveau-projet-3\", \"default\",\"test\")"
   ]
  },
  {
   "cell_type": "markdown",
   "metadata": {},
   "source": [
    "Remove label from a scheme"
   ]
  },
  {
   "cell_type": "code",
   "execution_count": 7,
   "metadata": {},
   "outputs": [
    {
     "name": "stdout",
     "output_type": "stream",
     "text": [
      "Label deleted from scheme\n"
     ]
    }
   ],
   "source": [
    "api.delete_label_from_scheme(\"nouveau-projet-3\", \"default\", \"test\")"
   ]
  },
  {
   "cell_type": "markdown",
   "metadata": {},
   "source": [
    "## Manage models"
   ]
  },
  {
   "cell_type": "markdown",
   "metadata": {},
   "source": [
    "Existing models for a project"
   ]
  },
  {
   "cell_type": "code",
   "execution_count": null,
   "metadata": {},
   "outputs": [],
   "source": [
    "api.get_models(\"stress\")\n"
   ]
  },
  {
   "cell_type": "markdown",
   "metadata": {},
   "source": [
    "Start a new project"
   ]
  },
  {
   "cell_type": "code",
   "execution_count": null,
   "metadata": {},
   "outputs": [],
   "source": [
    "api.start_finetune_model(\"stress\",\"default\", \"stress\", \"flaubert/flaubert_base_cased\")"
   ]
  },
  {
   "cell_type": "markdown",
   "metadata": {},
   "source": [
    "Stop a project"
   ]
  },
  {
   "cell_type": "code",
   "execution_count": null,
   "metadata": {},
   "outputs": [],
   "source": [
    "api.stop_finetune_model(\"stress\")"
   ]
  }
 ],
 "metadata": {
  "kernelspec": {
   "display_name": "base",
   "language": "python",
   "name": "python3"
  },
  "language_info": {
   "codemirror_mode": {
    "name": "ipython",
    "version": 3
   },
   "file_extension": ".py",
   "mimetype": "text/x-python",
   "name": "python",
   "nbconvert_exporter": "python",
   "pygments_lexer": "ipython3",
   "version": "3.11.7"
  }
 },
 "nbformat": 4,
 "nbformat_minor": 2
}
