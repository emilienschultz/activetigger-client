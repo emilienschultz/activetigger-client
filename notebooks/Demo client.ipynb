{
 "cells": [
  {
   "cell_type": "code",
   "execution_count": 1,
   "metadata": {},
   "outputs": [],
   "source": [
    "import sys\n",
    "sys.path.append('..')\n",
    "import atclient\n",
    "import pandas as pd"
   ]
  },
  {
   "cell_type": "markdown",
   "metadata": {},
   "source": [
    "## Use the API"
   ]
  },
  {
   "cell_type": "markdown",
   "metadata": {},
   "source": [
    "### Connect"
   ]
  },
  {
   "cell_type": "markdown",
   "metadata": {},
   "source": [
    "Create a config.yaml with 3 fields : url, username and password"
   ]
  },
  {
   "cell_type": "code",
   "execution_count": 2,
   "metadata": {},
   "outputs": [
    {
     "name": "stdout",
     "output_type": "stream",
     "text": [
      "Token received\n"
     ]
    }
   ],
   "source": [
    "api = atclient.AtApi(config='../config.yaml')"
   ]
  },
  {
   "cell_type": "markdown",
   "metadata": {},
   "source": [
    "### Projects management"
   ]
  },
  {
   "cell_type": "markdown",
   "metadata": {},
   "source": [
    "Load data to test"
   ]
  },
  {
   "cell_type": "code",
   "execution_count": 3,
   "metadata": {},
   "outputs": [
    {
     "data": {
      "text/html": [
       "<div>\n",
       "<style scoped>\n",
       "    .dataframe tbody tr th:only-of-type {\n",
       "        vertical-align: middle;\n",
       "    }\n",
       "\n",
       "    .dataframe tbody tr th {\n",
       "        vertical-align: top;\n",
       "    }\n",
       "\n",
       "    .dataframe thead th {\n",
       "        text-align: right;\n",
       "    }\n",
       "</style>\n",
       "<table border=\"1\" class=\"dataframe\">\n",
       "  <thead>\n",
       "    <tr style=\"text-align: right;\">\n",
       "      <th></th>\n",
       "      <th>Unnamed: 0</th>\n",
       "      <th>id</th>\n",
       "      <th>text</th>\n",
       "      <th>label</th>\n",
       "      <th>prob</th>\n",
       "      <th>proba</th>\n",
       "    </tr>\n",
       "  </thead>\n",
       "  <tbody>\n",
       "    <tr>\n",
       "      <th>0</th>\n",
       "      <td>0</td>\n",
       "      <td>1569866966566932480</td>\n",
       "      <td>Les ENFANTS du Québec, \\nLes AÎNÉS du Québec,\\...</td>\n",
       "      <td>Autre</td>\n",
       "      <td>0.823412</td>\n",
       "      <td>NaN</td>\n",
       "    </tr>\n",
       "    <tr>\n",
       "      <th>1</th>\n",
       "      <td>1</td>\n",
       "      <td>1569919081351942144</td>\n",
       "      <td>Après avoir imposé une politique dystopique zé...</td>\n",
       "      <td>Autre</td>\n",
       "      <td>0.599684</td>\n",
       "      <td>NaN</td>\n",
       "    </tr>\n",
       "    <tr>\n",
       "      <th>2</th>\n",
       "      <td>2</td>\n",
       "      <td>1569930968026480640</td>\n",
       "      <td>@Nyonensis @DIVIZIO1 Pour le coup, si ce qu'il...</td>\n",
       "      <td>Autre</td>\n",
       "      <td>0.941126</td>\n",
       "      <td>NaN</td>\n",
       "    </tr>\n",
       "    <tr>\n",
       "      <th>3</th>\n",
       "      <td>3</td>\n",
       "      <td>1569947515465728000</td>\n",
       "      <td>@nadinecerdan @SaiyanBio @nawah_s C'est sous e...</td>\n",
       "      <td>Autre</td>\n",
       "      <td>0.625537</td>\n",
       "      <td>NaN</td>\n",
       "    </tr>\n",
       "    <tr>\n",
       "      <th>4</th>\n",
       "      <td>4</td>\n",
       "      <td>1569961852972732416</td>\n",
       "      <td>@L_ThinkTank L'achat de vaccins et d'armes ne ...</td>\n",
       "      <td>Autre</td>\n",
       "      <td>0.103508</td>\n",
       "      <td>NaN</td>\n",
       "    </tr>\n",
       "  </tbody>\n",
       "</table>\n",
       "</div>"
      ],
      "text/plain": [
       "   Unnamed: 0                   id  \\\n",
       "0           0  1569866966566932480   \n",
       "1           1  1569919081351942144   \n",
       "2           2  1569930968026480640   \n",
       "3           3  1569947515465728000   \n",
       "4           4  1569961852972732416   \n",
       "\n",
       "                                                text  label      prob  proba  \n",
       "0  Les ENFANTS du Québec, \\nLes AÎNÉS du Québec,\\...  Autre  0.823412    NaN  \n",
       "1  Après avoir imposé une politique dystopique zé...  Autre  0.599684    NaN  \n",
       "2  @Nyonensis @DIVIZIO1 Pour le coup, si ce qu'il...  Autre  0.941126    NaN  \n",
       "3  @nadinecerdan @SaiyanBio @nawah_s C'est sous e...  Autre  0.625537    NaN  \n",
       "4  @L_ThinkTank L'achat de vaccins et d'armes ne ...  Autre  0.103508    NaN  "
      ]
     },
     "execution_count": 3,
     "metadata": {},
     "output_type": "execute_result"
    }
   ],
   "source": [
    "df = pd.read_parquet(\"../../activetigger/data/dataset_test.parquet\")\n",
    "df.head()"
   ]
  },
  {
   "cell_type": "markdown",
   "metadata": {},
   "source": [
    "Get available projects"
   ]
  },
  {
   "cell_type": "code",
   "execution_count": 4,
   "metadata": {},
   "outputs": [
    {
     "data": {
      "text/plain": [
       "74"
      ]
     },
     "execution_count": 4,
     "metadata": {},
     "output_type": "execute_result"
    }
   ],
   "source": [
    "r = api.get_projects()\n",
    "len(r)"
   ]
  },
  {
   "cell_type": "markdown",
   "metadata": {},
   "source": [
    "Get project slugs"
   ]
  },
  {
   "cell_type": "code",
   "execution_count": null,
   "metadata": {},
   "outputs": [],
   "source": [
    "api.get_projects_slugs()"
   ]
  },
  {
   "cell_type": "markdown",
   "metadata": {},
   "source": [
    "(If you want to sluggify a project name, you can use the following function)\n",
    "\n",
    "```python\n",
    "from slugify import slugify\n",
    "slugify(\"My project name\")\n",
    "```"
   ]
  },
  {
   "cell_type": "markdown",
   "metadata": {},
   "source": [
    "Create a project and return the slug"
   ]
  },
  {
   "cell_type": "code",
   "execution_count": 5,
   "metadata": {},
   "outputs": [
    {
     "name": "stdout",
     "output_type": "stream",
     "text": [
      "None\n"
     ]
    },
    {
     "data": {
      "text/plain": [
       "'del2'"
      ]
     },
     "execution_count": 5,
     "metadata": {},
     "output_type": "execute_result"
    }
   ],
   "source": [
    "api.add_project(\"del2\", df, \"id\", [\"text\"], cols_label=[\"label\"])"
   ]
  },
  {
   "cell_type": "markdown",
   "metadata": {},
   "source": [
    "Delete a project"
   ]
  },
  {
   "cell_type": "code",
   "execution_count": 6,
   "metadata": {},
   "outputs": [
    {
     "name": "stdout",
     "output_type": "stream",
     "text": [
      "Project deleted\n"
     ]
    }
   ],
   "source": [
    "api.delete_project(\"del2\")"
   ]
  },
  {
   "cell_type": "markdown",
   "metadata": {},
   "source": [
    "Export a project (without the models)"
   ]
  },
  {
   "cell_type": "code",
   "execution_count": 9,
   "metadata": {},
   "outputs": [
    {
     "name": "stdout",
     "output_type": "stream",
     "text": [
      "Project regles saved with 1 schemes\n",
      "File downloaded successfully to ./exports/regles\n"
     ]
    }
   ],
   "source": [
    "api.export_project(\"regles\", path=\"./exports\", raw_datasets=True)"
   ]
  },
  {
   "cell_type": "markdown",
   "metadata": {},
   "source": [
    "Export all the projects available for a user (for a backup for example)"
   ]
  },
  {
   "cell_type": "code",
   "execution_count": null,
   "metadata": {},
   "outputs": [],
   "source": [
    "api.export_all(path=\"./exports\", raw_datasets=True)"
   ]
  },
  {
   "cell_type": "markdown",
   "metadata": {},
   "source": [
    "### Users management"
   ]
  },
  {
   "cell_type": "markdown",
   "metadata": {},
   "source": [
    "Existing active users"
   ]
  },
  {
   "cell_type": "code",
   "execution_count": 14,
   "metadata": {},
   "outputs": [
    {
     "data": {
      "text/plain": [
       "{'root': {'contact': ''}, 'test3': {'contact': 'test@test.fr'}}"
      ]
     },
     "execution_count": 14,
     "metadata": {},
     "output_type": "execute_result"
    }
   ],
   "source": [
    "api.get_users()[\"users\"]"
   ]
  },
  {
   "cell_type": "markdown",
   "metadata": {},
   "source": [
    "Add"
   ]
  },
  {
   "cell_type": "code",
   "execution_count": 13,
   "metadata": {},
   "outputs": [
    {
     "name": "stdout",
     "output_type": "stream",
     "text": [
      "User created\n"
     ]
    }
   ],
   "source": [
    "api.add_user(\"test3\", \"test3\", \"test@test.fr\")"
   ]
  },
  {
   "cell_type": "markdown",
   "metadata": {},
   "source": [
    "Delete"
   ]
  },
  {
   "cell_type": "code",
   "execution_count": 9,
   "metadata": {},
   "outputs": [
    {
     "name": "stdout",
     "output_type": "stream",
     "text": [
      "User deleted\n"
     ]
    }
   ],
   "source": [
    "api.delete_user(\"test\")"
   ]
  },
  {
   "cell_type": "markdown",
   "metadata": {},
   "source": [
    "Add Auth for a project"
   ]
  },
  {
   "cell_type": "code",
   "execution_count": 15,
   "metadata": {},
   "outputs": [
    {
     "name": "stdout",
     "output_type": "stream",
     "text": [
      "Auth added to user\n"
     ]
    }
   ],
   "source": [
    "api.add_auth_user_project(\"test3\", \"nouveau-projet-3\", \"manager\")"
   ]
  },
  {
   "cell_type": "markdown",
   "metadata": {},
   "source": [
    "Delete Auth for a project"
   ]
  },
  {
   "cell_type": "code",
   "execution_count": 16,
   "metadata": {},
   "outputs": [
    {
     "name": "stdout",
     "output_type": "stream",
     "text": [
      "Auth deleted for user\n"
     ]
    }
   ],
   "source": [
    "api.delete_auth_user_project(\"test3\", \"nouveau-projet-3\")"
   ]
  },
  {
   "cell_type": "markdown",
   "metadata": {},
   "source": [
    "### Get project state"
   ]
  },
  {
   "cell_type": "code",
   "execution_count": 21,
   "metadata": {},
   "outputs": [],
   "source": [
    "state = api.get_project_state(\"nouveau-projet-3\")"
   ]
  },
  {
   "cell_type": "markdown",
   "metadata": {},
   "source": [
    "### Get current annotations"
   ]
  },
  {
   "cell_type": "code",
   "execution_count": 22,
   "metadata": {},
   "outputs": [
    {
     "data": {
      "text/html": [
       "<div>\n",
       "<style scoped>\n",
       "    .dataframe tbody tr th:only-of-type {\n",
       "        vertical-align: middle;\n",
       "    }\n",
       "\n",
       "    .dataframe tbody tr th {\n",
       "        vertical-align: top;\n",
       "    }\n",
       "\n",
       "    .dataframe thead th {\n",
       "        text-align: right;\n",
       "    }\n",
       "</style>\n",
       "<table border=\"1\" class=\"dataframe\">\n",
       "  <thead>\n",
       "    <tr style=\"text-align: right;\">\n",
       "      <th></th>\n",
       "      <th>Unnamed: 0</th>\n",
       "      <th>id</th>\n",
       "      <th>dataset_id</th>\n",
       "      <th>text</th>\n",
       "      <th>limit</th>\n",
       "      <th>labels</th>\n",
       "      <th>user</th>\n",
       "      <th>timestamp</th>\n",
       "      <th>comment</th>\n",
       "    </tr>\n",
       "  </thead>\n",
       "  <tbody>\n",
       "    <tr>\n",
       "      <th>0</th>\n",
       "      <td>0</td>\n",
       "      <td>1569866966566932480</td>\n",
       "      <td>1569866966566932480</td>\n",
       "      <td>Les ENFANTS du Québec, \\nLes AÎNÉS du Québec,\\...</td>\n",
       "      <td>1200</td>\n",
       "      <td>Autre</td>\n",
       "      <td>root</td>\n",
       "      <td>2025-02-28 13:39:36.038096</td>\n",
       "      <td>NaN</td>\n",
       "    </tr>\n",
       "    <tr>\n",
       "      <th>1</th>\n",
       "      <td>1</td>\n",
       "      <td>1569919081351942144</td>\n",
       "      <td>1569919081351942144</td>\n",
       "      <td>Après avoir imposé une politique dystopique zé...</td>\n",
       "      <td>1200</td>\n",
       "      <td>Autre</td>\n",
       "      <td>root</td>\n",
       "      <td>2025-02-28 13:39:36.038150</td>\n",
       "      <td>NaN</td>\n",
       "    </tr>\n",
       "    <tr>\n",
       "      <th>2</th>\n",
       "      <td>2</td>\n",
       "      <td>1569930968026480640</td>\n",
       "      <td>1569930968026480640</td>\n",
       "      <td>@Nyonensis @DIVIZIO1 Pour le coup, si ce qu'il...</td>\n",
       "      <td>1200</td>\n",
       "      <td>Autre</td>\n",
       "      <td>root</td>\n",
       "      <td>2025-02-28 13:39:36.038174</td>\n",
       "      <td>NaN</td>\n",
       "    </tr>\n",
       "    <tr>\n",
       "      <th>3</th>\n",
       "      <td>3</td>\n",
       "      <td>1569947515465728000</td>\n",
       "      <td>1569947515465728000</td>\n",
       "      <td>@nadinecerdan @SaiyanBio @nawah_s C'est sous e...</td>\n",
       "      <td>1200</td>\n",
       "      <td>Autre</td>\n",
       "      <td>root</td>\n",
       "      <td>2025-02-28 13:39:36.038194</td>\n",
       "      <td>NaN</td>\n",
       "    </tr>\n",
       "    <tr>\n",
       "      <th>4</th>\n",
       "      <td>4</td>\n",
       "      <td>1569961852972732416</td>\n",
       "      <td>1569961852972732416</td>\n",
       "      <td>@L_ThinkTank L'achat de vaccins et d'armes ne ...</td>\n",
       "      <td>1200</td>\n",
       "      <td>Autre</td>\n",
       "      <td>root</td>\n",
       "      <td>2025-02-28 13:39:36.038212</td>\n",
       "      <td>NaN</td>\n",
       "    </tr>\n",
       "  </tbody>\n",
       "</table>\n",
       "</div>"
      ],
      "text/plain": [
       "   Unnamed: 0                   id           dataset_id  \\\n",
       "0           0  1569866966566932480  1569866966566932480   \n",
       "1           1  1569919081351942144  1569919081351942144   \n",
       "2           2  1569930968026480640  1569930968026480640   \n",
       "3           3  1569947515465728000  1569947515465728000   \n",
       "4           4  1569961852972732416  1569961852972732416   \n",
       "\n",
       "                                                text  limit labels  user  \\\n",
       "0  Les ENFANTS du Québec, \\nLes AÎNÉS du Québec,\\...   1200  Autre  root   \n",
       "1  Après avoir imposé une politique dystopique zé...   1200  Autre  root   \n",
       "2  @Nyonensis @DIVIZIO1 Pour le coup, si ce qu'il...   1200  Autre  root   \n",
       "3  @nadinecerdan @SaiyanBio @nawah_s C'est sous e...   1200  Autre  root   \n",
       "4  @L_ThinkTank L'achat de vaccins et d'armes ne ...   1200  Autre  root   \n",
       "\n",
       "                    timestamp  comment  \n",
       "0  2025-02-28 13:39:36.038096      NaN  \n",
       "1  2025-02-28 13:39:36.038150      NaN  \n",
       "2  2025-02-28 13:39:36.038174      NaN  \n",
       "3  2025-02-28 13:39:36.038194      NaN  \n",
       "4  2025-02-28 13:39:36.038212      NaN  "
      ]
     },
     "execution_count": 22,
     "metadata": {},
     "output_type": "execute_result"
    }
   ],
   "source": [
    "t = api.get_annotations_data(\"nouveau-projet-3\", \"default\")\n",
    "t.head()"
   ]
  },
  {
   "cell_type": "markdown",
   "metadata": {},
   "source": [
    "### Manage features"
   ]
  },
  {
   "cell_type": "markdown",
   "metadata": {},
   "source": [
    "Get available feature"
   ]
  },
  {
   "cell_type": "code",
   "execution_count": 23,
   "metadata": {},
   "outputs": [
    {
     "data": {
      "text/plain": [
       "dict_keys([])"
      ]
     },
     "execution_count": 23,
     "metadata": {},
     "output_type": "execute_result"
    }
   ],
   "source": [
    "r = api.get_features(\"nouveau-projet-3\")\n",
    "r.keys()"
   ]
  },
  {
   "cell_type": "markdown",
   "metadata": {},
   "source": [
    "Add a SBERT feature on the train dataset"
   ]
  },
  {
   "cell_type": "code",
   "execution_count": 24,
   "metadata": {},
   "outputs": [
    {
     "name": "stdout",
     "output_type": "stream",
     "text": [
      "b'{\"detail\":\"computing sbert, it could take a few minutes\",\"status\":\"waiting\"}'\n"
     ]
    }
   ],
   "source": [
    "api.add_feature(\"nouveau-projet-3\", \"sbert\", \"sbert\")"
   ]
  },
  {
   "cell_type": "markdown",
   "metadata": {},
   "source": [
    "Get features"
   ]
  },
  {
   "cell_type": "code",
   "execution_count": 3,
   "metadata": {},
   "outputs": [
    {
     "data": {
      "text/html": [
       "<div>\n",
       "<style scoped>\n",
       "    .dataframe tbody tr th:only-of-type {\n",
       "        vertical-align: middle;\n",
       "    }\n",
       "\n",
       "    .dataframe tbody tr th {\n",
       "        vertical-align: top;\n",
       "    }\n",
       "\n",
       "    .dataframe thead th {\n",
       "        text-align: right;\n",
       "    }\n",
       "</style>\n",
       "<table border=\"1\" class=\"dataframe\">\n",
       "  <thead>\n",
       "    <tr style=\"text-align: right;\">\n",
       "      <th></th>\n",
       "      <th>id</th>\n",
       "      <th>sbert__sb001</th>\n",
       "      <th>sbert__sb002</th>\n",
       "      <th>sbert__sb003</th>\n",
       "      <th>sbert__sb004</th>\n",
       "      <th>sbert__sb005</th>\n",
       "      <th>sbert__sb006</th>\n",
       "      <th>sbert__sb007</th>\n",
       "      <th>sbert__sb008</th>\n",
       "      <th>sbert__sb009</th>\n",
       "      <th>...</th>\n",
       "      <th>sbert__sb759</th>\n",
       "      <th>sbert__sb760</th>\n",
       "      <th>sbert__sb761</th>\n",
       "      <th>sbert__sb762</th>\n",
       "      <th>sbert__sb763</th>\n",
       "      <th>sbert__sb764</th>\n",
       "      <th>sbert__sb765</th>\n",
       "      <th>sbert__sb766</th>\n",
       "      <th>sbert__sb767</th>\n",
       "      <th>sbert__sb768</th>\n",
       "    </tr>\n",
       "  </thead>\n",
       "  <tbody>\n",
       "    <tr>\n",
       "      <th>0</th>\n",
       "      <td>1569866966566932480</td>\n",
       "      <td>-0.012411</td>\n",
       "      <td>0.069819</td>\n",
       "      <td>0.017629</td>\n",
       "      <td>0.016337</td>\n",
       "      <td>-0.005500</td>\n",
       "      <td>-0.026143</td>\n",
       "      <td>-0.026683</td>\n",
       "      <td>0.021376</td>\n",
       "      <td>0.018183</td>\n",
       "      <td>...</td>\n",
       "      <td>-0.019169</td>\n",
       "      <td>-0.028596</td>\n",
       "      <td>-0.001524</td>\n",
       "      <td>0.014563</td>\n",
       "      <td>-0.017164</td>\n",
       "      <td>-0.006479</td>\n",
       "      <td>0.050561</td>\n",
       "      <td>0.067910</td>\n",
       "      <td>0.015443</td>\n",
       "      <td>0.025394</td>\n",
       "    </tr>\n",
       "    <tr>\n",
       "      <th>1</th>\n",
       "      <td>1569919081351942144</td>\n",
       "      <td>-0.022546</td>\n",
       "      <td>0.042782</td>\n",
       "      <td>0.017333</td>\n",
       "      <td>0.020885</td>\n",
       "      <td>0.006150</td>\n",
       "      <td>-0.027854</td>\n",
       "      <td>0.007987</td>\n",
       "      <td>0.004077</td>\n",
       "      <td>0.012157</td>\n",
       "      <td>...</td>\n",
       "      <td>-0.047567</td>\n",
       "      <td>-0.020814</td>\n",
       "      <td>-0.075401</td>\n",
       "      <td>-0.075062</td>\n",
       "      <td>-0.014331</td>\n",
       "      <td>0.026679</td>\n",
       "      <td>0.014444</td>\n",
       "      <td>0.033841</td>\n",
       "      <td>-0.022563</td>\n",
       "      <td>0.030447</td>\n",
       "    </tr>\n",
       "    <tr>\n",
       "      <th>2</th>\n",
       "      <td>1569930968026480640</td>\n",
       "      <td>-0.004847</td>\n",
       "      <td>0.002958</td>\n",
       "      <td>0.048592</td>\n",
       "      <td>0.009563</td>\n",
       "      <td>0.007411</td>\n",
       "      <td>-0.012930</td>\n",
       "      <td>-0.009337</td>\n",
       "      <td>0.007568</td>\n",
       "      <td>0.024637</td>\n",
       "      <td>...</td>\n",
       "      <td>-0.043440</td>\n",
       "      <td>0.036784</td>\n",
       "      <td>-0.016663</td>\n",
       "      <td>-0.030763</td>\n",
       "      <td>-0.006885</td>\n",
       "      <td>-0.014110</td>\n",
       "      <td>0.004118</td>\n",
       "      <td>0.057386</td>\n",
       "      <td>0.037831</td>\n",
       "      <td>-0.009964</td>\n",
       "    </tr>\n",
       "    <tr>\n",
       "      <th>3</th>\n",
       "      <td>1569947515465728000</td>\n",
       "      <td>0.009454</td>\n",
       "      <td>0.005232</td>\n",
       "      <td>0.035062</td>\n",
       "      <td>0.005583</td>\n",
       "      <td>0.005241</td>\n",
       "      <td>-0.058031</td>\n",
       "      <td>0.017341</td>\n",
       "      <td>0.031192</td>\n",
       "      <td>0.062633</td>\n",
       "      <td>...</td>\n",
       "      <td>-0.027558</td>\n",
       "      <td>-0.066112</td>\n",
       "      <td>-0.060420</td>\n",
       "      <td>-0.049953</td>\n",
       "      <td>-0.013541</td>\n",
       "      <td>-0.047349</td>\n",
       "      <td>0.004409</td>\n",
       "      <td>0.056827</td>\n",
       "      <td>0.026242</td>\n",
       "      <td>-0.033341</td>\n",
       "    </tr>\n",
       "    <tr>\n",
       "      <th>4</th>\n",
       "      <td>1569961852972732416</td>\n",
       "      <td>-0.027911</td>\n",
       "      <td>0.003018</td>\n",
       "      <td>0.042799</td>\n",
       "      <td>-0.023156</td>\n",
       "      <td>-0.013802</td>\n",
       "      <td>-0.019713</td>\n",
       "      <td>0.059756</td>\n",
       "      <td>-0.028939</td>\n",
       "      <td>0.039197</td>\n",
       "      <td>...</td>\n",
       "      <td>-0.026509</td>\n",
       "      <td>-0.009135</td>\n",
       "      <td>-0.007320</td>\n",
       "      <td>-0.028597</td>\n",
       "      <td>-0.009583</td>\n",
       "      <td>0.014385</td>\n",
       "      <td>0.002206</td>\n",
       "      <td>0.035609</td>\n",
       "      <td>0.062151</td>\n",
       "      <td>-0.033790</td>\n",
       "    </tr>\n",
       "  </tbody>\n",
       "</table>\n",
       "<p>5 rows × 769 columns</p>\n",
       "</div>"
      ],
      "text/plain": [
       "                    id  sbert__sb001  sbert__sb002  sbert__sb003  \\\n",
       "0  1569866966566932480     -0.012411      0.069819      0.017629   \n",
       "1  1569919081351942144     -0.022546      0.042782      0.017333   \n",
       "2  1569930968026480640     -0.004847      0.002958      0.048592   \n",
       "3  1569947515465728000      0.009454      0.005232      0.035062   \n",
       "4  1569961852972732416     -0.027911      0.003018      0.042799   \n",
       "\n",
       "   sbert__sb004  sbert__sb005  sbert__sb006  sbert__sb007  sbert__sb008  \\\n",
       "0      0.016337     -0.005500     -0.026143     -0.026683      0.021376   \n",
       "1      0.020885      0.006150     -0.027854      0.007987      0.004077   \n",
       "2      0.009563      0.007411     -0.012930     -0.009337      0.007568   \n",
       "3      0.005583      0.005241     -0.058031      0.017341      0.031192   \n",
       "4     -0.023156     -0.013802     -0.019713      0.059756     -0.028939   \n",
       "\n",
       "   sbert__sb009  ...  sbert__sb759  sbert__sb760  sbert__sb761  sbert__sb762  \\\n",
       "0      0.018183  ...     -0.019169     -0.028596     -0.001524      0.014563   \n",
       "1      0.012157  ...     -0.047567     -0.020814     -0.075401     -0.075062   \n",
       "2      0.024637  ...     -0.043440      0.036784     -0.016663     -0.030763   \n",
       "3      0.062633  ...     -0.027558     -0.066112     -0.060420     -0.049953   \n",
       "4      0.039197  ...     -0.026509     -0.009135     -0.007320     -0.028597   \n",
       "\n",
       "   sbert__sb763  sbert__sb764  sbert__sb765  sbert__sb766  sbert__sb767  \\\n",
       "0     -0.017164     -0.006479      0.050561      0.067910      0.015443   \n",
       "1     -0.014331      0.026679      0.014444      0.033841     -0.022563   \n",
       "2     -0.006885     -0.014110      0.004118      0.057386      0.037831   \n",
       "3     -0.013541     -0.047349      0.004409      0.056827      0.026242   \n",
       "4     -0.009583      0.014385      0.002206      0.035609      0.062151   \n",
       "\n",
       "   sbert__sb768  \n",
       "0      0.025394  \n",
       "1      0.030447  \n",
       "2     -0.009964  \n",
       "3     -0.033341  \n",
       "4     -0.033790  \n",
       "\n",
       "[5 rows x 769 columns]"
      ]
     },
     "execution_count": 3,
     "metadata": {},
     "output_type": "execute_result"
    }
   ],
   "source": [
    "df = api.get_features_data(\"nouveau-projet-3\", [\"sbert\"])\n",
    "df.head()"
   ]
  },
  {
   "cell_type": "markdown",
   "metadata": {},
   "source": [
    "## Manage scheme"
   ]
  },
  {
   "cell_type": "markdown",
   "metadata": {},
   "source": [
    "Get available scheme"
   ]
  },
  {
   "cell_type": "code",
   "execution_count": 30,
   "metadata": {},
   "outputs": [
    {
     "data": {
      "text/plain": [
       "{'default': {'labels': ['Autre', 'Règles'], 'kind': 'multiclass'},\n",
       " 'test': {'labels': ['coucou', 'essai'], 'kind': 'multiclass'}}"
      ]
     },
     "execution_count": 30,
     "metadata": {},
     "output_type": "execute_result"
    }
   ],
   "source": [
    "api.get_schemes(\"nouveau-projet-3\")"
   ]
  },
  {
   "cell_type": "markdown",
   "metadata": {},
   "source": [
    "Add scheme"
   ]
  },
  {
   "cell_type": "code",
   "execution_count": 4,
   "metadata": {},
   "outputs": [
    {
     "name": "stdout",
     "output_type": "stream",
     "text": [
      "Scheme added to project\n"
     ]
    }
   ],
   "source": [
    "api.add_scheme_to_project(\"nouveau-projet-3\",\"test\",[\"coucou\",\"essai\"])"
   ]
  },
  {
   "cell_type": "markdown",
   "metadata": {},
   "source": [
    "Delete scheme"
   ]
  },
  {
   "cell_type": "code",
   "execution_count": 3,
   "metadata": {},
   "outputs": [
    {
     "name": "stdout",
     "output_type": "stream",
     "text": [
      "Scheme deleted from project\n"
     ]
    }
   ],
   "source": [
    "api.delete_scheme_from_project(\"nouveau-projet-3\",\"test\")"
   ]
  },
  {
   "cell_type": "markdown",
   "metadata": {},
   "source": [
    "Add a label to a scheme"
   ]
  },
  {
   "cell_type": "code",
   "execution_count": 6,
   "metadata": {},
   "outputs": [
    {
     "name": "stdout",
     "output_type": "stream",
     "text": [
      "Label added to scheme\n"
     ]
    }
   ],
   "source": [
    "api.add_label_to_scheme(\"nouveau-projet-3\", \"default\",\"test\")"
   ]
  },
  {
   "cell_type": "markdown",
   "metadata": {},
   "source": [
    "Remove label from a scheme"
   ]
  },
  {
   "cell_type": "code",
   "execution_count": 7,
   "metadata": {},
   "outputs": [
    {
     "name": "stdout",
     "output_type": "stream",
     "text": [
      "Label deleted from scheme\n"
     ]
    }
   ],
   "source": [
    "api.delete_label_from_scheme(\"nouveau-projet-3\", \"default\", \"test\")"
   ]
  },
  {
   "cell_type": "markdown",
   "metadata": {},
   "source": [
    "## Manage models"
   ]
  },
  {
   "cell_type": "markdown",
   "metadata": {},
   "source": [
    "Existing models for a project"
   ]
  },
  {
   "cell_type": "code",
   "execution_count": null,
   "metadata": {},
   "outputs": [],
   "source": [
    "api.get_models(\"stress\")\n"
   ]
  },
  {
   "cell_type": "markdown",
   "metadata": {},
   "source": [
    "Start a new project"
   ]
  },
  {
   "cell_type": "code",
   "execution_count": null,
   "metadata": {},
   "outputs": [],
   "source": [
    "api.start_finetune_model(\"stress\",\"default\", \"stress\", \"flaubert/flaubert_base_cased\")"
   ]
  },
  {
   "cell_type": "markdown",
   "metadata": {},
   "source": [
    "Stop a project"
   ]
  },
  {
   "cell_type": "code",
   "execution_count": null,
   "metadata": {},
   "outputs": [],
   "source": [
    "api.stop_finetune_model(\"stress\")"
   ]
  }
 ],
 "metadata": {
  "kernelspec": {
   "display_name": "base",
   "language": "python",
   "name": "python3"
  },
  "language_info": {
   "codemirror_mode": {
    "name": "ipython",
    "version": 3
   },
   "file_extension": ".py",
   "mimetype": "text/x-python",
   "name": "python",
   "nbconvert_exporter": "python",
   "pygments_lexer": "ipython3",
   "version": "3.11.7"
  }
 },
 "nbformat": 4,
 "nbformat_minor": 2
}
