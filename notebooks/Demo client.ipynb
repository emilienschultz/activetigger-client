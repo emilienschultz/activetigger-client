{
 "cells": [
  {
   "cell_type": "code",
   "execution_count": 1,
   "metadata": {},
   "outputs": [],
   "source": [
    "import sys\n",
    "sys.path.append('..')\n",
    "import atclient\n",
    "import pandas as pd"
   ]
  },
  {
   "cell_type": "markdown",
   "metadata": {},
   "source": [
    "## Use the API"
   ]
  },
  {
   "cell_type": "markdown",
   "metadata": {},
   "source": [
    "### Connect"
   ]
  },
  {
   "cell_type": "markdown",
   "metadata": {},
   "source": [
    "Create a config.yaml with 3 fields : url, username and password"
   ]
  },
  {
   "cell_type": "code",
   "execution_count": 2,
   "metadata": {},
   "outputs": [
    {
     "name": "stdout",
     "output_type": "stream",
     "text": [
      "Token received\n"
     ]
    }
   ],
   "source": [
    "api = atclient.AtApi(config='../config.yaml')\n"
   ]
  },
  {
   "cell_type": "markdown",
   "metadata": {},
   "source": [
    "### Projects management"
   ]
  },
  {
   "cell_type": "markdown",
   "metadata": {},
   "source": [
    "Load data"
   ]
  },
  {
   "cell_type": "code",
   "execution_count": 3,
   "metadata": {},
   "outputs": [
    {
     "data": {
      "text/html": [
       "<div>\n",
       "<style scoped>\n",
       "    .dataframe tbody tr th:only-of-type {\n",
       "        vertical-align: middle;\n",
       "    }\n",
       "\n",
       "    .dataframe tbody tr th {\n",
       "        vertical-align: top;\n",
       "    }\n",
       "\n",
       "    .dataframe thead th {\n",
       "        text-align: right;\n",
       "    }\n",
       "</style>\n",
       "<table border=\"1\" class=\"dataframe\">\n",
       "  <thead>\n",
       "    <tr style=\"text-align: right;\">\n",
       "      <th></th>\n",
       "      <th>Unnamed: 0</th>\n",
       "      <th>id</th>\n",
       "      <th>text</th>\n",
       "      <th>label</th>\n",
       "      <th>prob</th>\n",
       "      <th>proba</th>\n",
       "    </tr>\n",
       "  </thead>\n",
       "  <tbody>\n",
       "    <tr>\n",
       "      <th>0</th>\n",
       "      <td>0</td>\n",
       "      <td>1569866966566932480</td>\n",
       "      <td>Les ENFANTS du Québec, \\nLes AÎNÉS du Québec,\\...</td>\n",
       "      <td>Autre</td>\n",
       "      <td>0.823412</td>\n",
       "      <td>NaN</td>\n",
       "    </tr>\n",
       "    <tr>\n",
       "      <th>1</th>\n",
       "      <td>1</td>\n",
       "      <td>1569919081351942144</td>\n",
       "      <td>Après avoir imposé une politique dystopique zé...</td>\n",
       "      <td>Autre</td>\n",
       "      <td>0.599684</td>\n",
       "      <td>NaN</td>\n",
       "    </tr>\n",
       "    <tr>\n",
       "      <th>2</th>\n",
       "      <td>2</td>\n",
       "      <td>1569930968026480640</td>\n",
       "      <td>@Nyonensis @DIVIZIO1 Pour le coup, si ce qu'il...</td>\n",
       "      <td>Autre</td>\n",
       "      <td>0.941126</td>\n",
       "      <td>NaN</td>\n",
       "    </tr>\n",
       "    <tr>\n",
       "      <th>3</th>\n",
       "      <td>3</td>\n",
       "      <td>1569947515465728000</td>\n",
       "      <td>@nadinecerdan @SaiyanBio @nawah_s C'est sous e...</td>\n",
       "      <td>Autre</td>\n",
       "      <td>0.625537</td>\n",
       "      <td>NaN</td>\n",
       "    </tr>\n",
       "    <tr>\n",
       "      <th>4</th>\n",
       "      <td>4</td>\n",
       "      <td>1569961852972732416</td>\n",
       "      <td>@L_ThinkTank L'achat de vaccins et d'armes ne ...</td>\n",
       "      <td>Autre</td>\n",
       "      <td>0.103508</td>\n",
       "      <td>NaN</td>\n",
       "    </tr>\n",
       "  </tbody>\n",
       "</table>\n",
       "</div>"
      ],
      "text/plain": [
       "   Unnamed: 0                   id  \\\n",
       "0           0  1569866966566932480   \n",
       "1           1  1569919081351942144   \n",
       "2           2  1569930968026480640   \n",
       "3           3  1569947515465728000   \n",
       "4           4  1569961852972732416   \n",
       "\n",
       "                                                text  label      prob  proba  \n",
       "0  Les ENFANTS du Québec, \\nLes AÎNÉS du Québec,\\...  Autre  0.823412    NaN  \n",
       "1  Après avoir imposé une politique dystopique zé...  Autre  0.599684    NaN  \n",
       "2  @Nyonensis @DIVIZIO1 Pour le coup, si ce qu'il...  Autre  0.941126    NaN  \n",
       "3  @nadinecerdan @SaiyanBio @nawah_s C'est sous e...  Autre  0.625537    NaN  \n",
       "4  @L_ThinkTank L'achat de vaccins et d'armes ne ...  Autre  0.103508    NaN  "
      ]
     },
     "execution_count": 3,
     "metadata": {},
     "output_type": "execute_result"
    }
   ],
   "source": [
    "df = pd.read_parquet(\"../../activetigger/data/dataset_test.parquet\")\n",
    "df.head()"
   ]
  },
  {
   "cell_type": "markdown",
   "metadata": {},
   "source": [
    "Get available projects"
   ]
  },
  {
   "cell_type": "code",
   "execution_count": 3,
   "metadata": {},
   "outputs": [
    {
     "data": {
      "text/plain": [
       "3"
      ]
     },
     "execution_count": 3,
     "metadata": {},
     "output_type": "execute_result"
    }
   ],
   "source": [
    "r = api.get_projects()\n",
    "len(r)"
   ]
  },
  {
   "cell_type": "markdown",
   "metadata": {},
   "source": [
    "Get project slugs"
   ]
  },
  {
   "cell_type": "code",
   "execution_count": 4,
   "metadata": {},
   "outputs": [
    {
     "data": {
      "text/plain": [
       "['off-the-record-adam', 'off-the-record-imane', 'featurization-edito-pol']"
      ]
     },
     "execution_count": 4,
     "metadata": {},
     "output_type": "execute_result"
    }
   ],
   "source": [
    "api.get_projects_slugs()\n"
   ]
  },
  {
   "cell_type": "markdown",
   "metadata": {},
   "source": [
    "(If you want to sluggify a project name, you can use the following function)\n",
    "\n",
    "```python\n",
    "from slugify import slugify\n",
    "slugify(\"My project name\")\n",
    "```"
   ]
  },
  {
   "cell_type": "markdown",
   "metadata": {},
   "source": [
    "Create a project"
   ]
  },
  {
   "cell_type": "code",
   "execution_count": 4,
   "metadata": {},
   "outputs": [
    {
     "name": "stdout",
     "output_type": "stream",
     "text": [
      "b'\"test3\"'\n"
     ]
    }
   ],
   "source": [
    "api.add_project(\"test3\", df, \"id\", [\"text\"], col_label=\"label\")"
   ]
  },
  {
   "cell_type": "markdown",
   "metadata": {},
   "source": [
    "Delete a project"
   ]
  },
  {
   "cell_type": "code",
   "execution_count": 4,
   "metadata": {},
   "outputs": [
    {
     "name": "stdout",
     "output_type": "stream",
     "text": [
      "b'{\"detail\":\"Project doesn\\'t exist\"}'\n"
     ]
    }
   ],
   "source": [
    "api.delete_project(\"test3\")"
   ]
  },
  {
   "cell_type": "markdown",
   "metadata": {},
   "source": [
    "### Users management"
   ]
  },
  {
   "cell_type": "markdown",
   "metadata": {},
   "source": [
    "Add"
   ]
  },
  {
   "cell_type": "code",
   "execution_count": 5,
   "metadata": {},
   "outputs": [
    {
     "name": "stdout",
     "output_type": "stream",
     "text": [
      "User created\n"
     ]
    }
   ],
   "source": [
    "api.add_user(\"coucou2\", \"coucou2\", \"test@test.fr\")"
   ]
  },
  {
   "cell_type": "markdown",
   "metadata": {},
   "source": [
    "Delete"
   ]
  },
  {
   "cell_type": "code",
   "execution_count": 12,
   "metadata": {},
   "outputs": [
    {
     "name": "stdout",
     "output_type": "stream",
     "text": [
      "User deleted\n"
     ]
    }
   ],
   "source": [
    "api.delete_user(\"coucou2\")"
   ]
  },
  {
   "cell_type": "markdown",
   "metadata": {},
   "source": [
    "Add Auth for a project"
   ]
  },
  {
   "cell_type": "code",
   "execution_count": 6,
   "metadata": {},
   "outputs": [
    {
     "name": "stdout",
     "output_type": "stream",
     "text": [
      "Auth added to user\n"
     ]
    }
   ],
   "source": [
    "api.add_auth_user_project(\"coucou2\", \"test3\", \"manager\")"
   ]
  },
  {
   "cell_type": "markdown",
   "metadata": {},
   "source": [
    "Delete Auth for a project"
   ]
  },
  {
   "cell_type": "code",
   "execution_count": 3,
   "metadata": {},
   "outputs": [
    {
     "name": "stdout",
     "output_type": "stream",
     "text": [
      "Auth deleted for user\n"
     ]
    }
   ],
   "source": [
    "api.delete_auth_user_project(\"coucou2\", \"test3\")"
   ]
  },
  {
   "cell_type": "markdown",
   "metadata": {},
   "source": [
    "### Get project state"
   ]
  },
  {
   "cell_type": "code",
   "execution_count": 6,
   "metadata": {},
   "outputs": [
    {
     "data": {
      "text/plain": [
       "{'available': {'default': {'labels': ['Autre', 'Règles'],\n",
       "   'kind': 'multiclass'},\n",
       "  'coucou': {'labels': ['Super', 'Sous'], 'kind': 'multiclass'}},\n",
       " 'statistics': {}}"
      ]
     },
     "execution_count": 6,
     "metadata": {},
     "output_type": "execute_result"
    }
   ],
   "source": [
    "state = api.get_project_state(\"test\")\n",
    "state[\"schemes\"]"
   ]
  },
  {
   "cell_type": "markdown",
   "metadata": {},
   "source": [
    "### Get current annotations"
   ]
  },
  {
   "cell_type": "code",
   "execution_count": 15,
   "metadata": {},
   "outputs": [
    {
     "data": {
      "text/html": [
       "<div>\n",
       "<style scoped>\n",
       "    .dataframe tbody tr th:only-of-type {\n",
       "        vertical-align: middle;\n",
       "    }\n",
       "\n",
       "    .dataframe tbody tr th {\n",
       "        vertical-align: top;\n",
       "    }\n",
       "\n",
       "    .dataframe thead th {\n",
       "        text-align: right;\n",
       "    }\n",
       "</style>\n",
       "<table border=\"1\" class=\"dataframe\">\n",
       "  <thead>\n",
       "    <tr style=\"text-align: right;\">\n",
       "      <th></th>\n",
       "      <th>Unnamed: 0</th>\n",
       "      <th>id</th>\n",
       "      <th>dataset_id</th>\n",
       "      <th>text</th>\n",
       "      <th>labels</th>\n",
       "      <th>user</th>\n",
       "      <th>timestamp</th>\n",
       "      <th>comment</th>\n",
       "    </tr>\n",
       "  </thead>\n",
       "  <tbody>\n",
       "    <tr>\n",
       "      <th>0</th>\n",
       "      <td>0</td>\n",
       "      <td>1569866966566932480</td>\n",
       "      <td>1569866966566932480</td>\n",
       "      <td>Les ENFANTS du Québec, \\nLes AÎNÉS du Québec,\\...</td>\n",
       "      <td>Autre</td>\n",
       "      <td>root</td>\n",
       "      <td>2025-01-08 17:08:11.010291</td>\n",
       "      <td>NaN</td>\n",
       "    </tr>\n",
       "    <tr>\n",
       "      <th>1</th>\n",
       "      <td>1</td>\n",
       "      <td>1569919081351942144</td>\n",
       "      <td>1569919081351942144</td>\n",
       "      <td>Après avoir imposé une politique dystopique zé...</td>\n",
       "      <td>Autre</td>\n",
       "      <td>root</td>\n",
       "      <td>2025-01-08 17:08:11.010386</td>\n",
       "      <td>NaN</td>\n",
       "    </tr>\n",
       "    <tr>\n",
       "      <th>2</th>\n",
       "      <td>2</td>\n",
       "      <td>1569930968026480640</td>\n",
       "      <td>1569930968026480640</td>\n",
       "      <td>@Nyonensis @DIVIZIO1 Pour le coup, si ce qu'il...</td>\n",
       "      <td>Autre</td>\n",
       "      <td>root</td>\n",
       "      <td>2025-01-08 17:08:11.010416</td>\n",
       "      <td>NaN</td>\n",
       "    </tr>\n",
       "    <tr>\n",
       "      <th>3</th>\n",
       "      <td>3</td>\n",
       "      <td>1569947515465728000</td>\n",
       "      <td>1569947515465728000</td>\n",
       "      <td>@nadinecerdan @SaiyanBio @nawah_s C'est sous e...</td>\n",
       "      <td>Autre</td>\n",
       "      <td>root</td>\n",
       "      <td>2025-01-08 17:08:11.010438</td>\n",
       "      <td>NaN</td>\n",
       "    </tr>\n",
       "    <tr>\n",
       "      <th>4</th>\n",
       "      <td>4</td>\n",
       "      <td>1569961852972732416</td>\n",
       "      <td>1569961852972732416</td>\n",
       "      <td>@L_ThinkTank L'achat de vaccins et d'armes ne ...</td>\n",
       "      <td>Autre</td>\n",
       "      <td>root</td>\n",
       "      <td>2025-01-08 17:08:11.010459</td>\n",
       "      <td>NaN</td>\n",
       "    </tr>\n",
       "  </tbody>\n",
       "</table>\n",
       "</div>"
      ],
      "text/plain": [
       "   Unnamed: 0                   id           dataset_id  \\\n",
       "0           0  1569866966566932480  1569866966566932480   \n",
       "1           1  1569919081351942144  1569919081351942144   \n",
       "2           2  1569930968026480640  1569930968026480640   \n",
       "3           3  1569947515465728000  1569947515465728000   \n",
       "4           4  1569961852972732416  1569961852972732416   \n",
       "\n",
       "                                                text labels  user  \\\n",
       "0  Les ENFANTS du Québec, \\nLes AÎNÉS du Québec,\\...  Autre  root   \n",
       "1  Après avoir imposé une politique dystopique zé...  Autre  root   \n",
       "2  @Nyonensis @DIVIZIO1 Pour le coup, si ce qu'il...  Autre  root   \n",
       "3  @nadinecerdan @SaiyanBio @nawah_s C'est sous e...  Autre  root   \n",
       "4  @L_ThinkTank L'achat de vaccins et d'armes ne ...  Autre  root   \n",
       "\n",
       "                    timestamp  comment  \n",
       "0  2025-01-08 17:08:11.010291      NaN  \n",
       "1  2025-01-08 17:08:11.010386      NaN  \n",
       "2  2025-01-08 17:08:11.010416      NaN  \n",
       "3  2025-01-08 17:08:11.010438      NaN  \n",
       "4  2025-01-08 17:08:11.010459      NaN  "
      ]
     },
     "execution_count": 15,
     "metadata": {},
     "output_type": "execute_result"
    }
   ],
   "source": [
    "t = api.get_annotations_data(\"test\", \"default\")\n",
    "t.head()"
   ]
  },
  {
   "cell_type": "markdown",
   "metadata": {},
   "source": [
    "### Manage features"
   ]
  },
  {
   "cell_type": "markdown",
   "metadata": {},
   "source": [
    "Get available feature"
   ]
  },
  {
   "cell_type": "code",
   "execution_count": 7,
   "metadata": {},
   "outputs": [
    {
     "data": {
      "text/plain": [
       "dict_keys(['sbert'])"
      ]
     },
     "execution_count": 7,
     "metadata": {},
     "output_type": "execute_result"
    }
   ],
   "source": [
    "r = api.get_features(\"test3\")\n",
    "r.keys()"
   ]
  },
  {
   "cell_type": "markdown",
   "metadata": {},
   "source": [
    "Add a SBERT feature on the train dataset"
   ]
  },
  {
   "cell_type": "code",
   "execution_count": 5,
   "metadata": {},
   "outputs": [
    {
     "name": "stdout",
     "output_type": "stream",
     "text": [
      "b'{\"detail\":\"computing sbert, it could take a few minutes\",\"status\":\"waiting\"}'\n"
     ]
    }
   ],
   "source": [
    "api.add_feature(\"test3\", \"sbert\", \"sbert\")"
   ]
  },
  {
   "cell_type": "markdown",
   "metadata": {},
   "source": [
    "Get features"
   ]
  },
  {
   "cell_type": "code",
   "execution_count": 4,
   "metadata": {},
   "outputs": [
    {
     "data": {
      "text/html": [
       "<div>\n",
       "<style scoped>\n",
       "    .dataframe tbody tr th:only-of-type {\n",
       "        vertical-align: middle;\n",
       "    }\n",
       "\n",
       "    .dataframe tbody tr th {\n",
       "        vertical-align: top;\n",
       "    }\n",
       "\n",
       "    .dataframe thead th {\n",
       "        text-align: right;\n",
       "    }\n",
       "</style>\n",
       "<table border=\"1\" class=\"dataframe\">\n",
       "  <thead>\n",
       "    <tr style=\"text-align: right;\">\n",
       "      <th></th>\n",
       "      <th>id</th>\n",
       "      <th>sbert__sb001</th>\n",
       "      <th>sbert__sb002</th>\n",
       "      <th>sbert__sb003</th>\n",
       "      <th>sbert__sb004</th>\n",
       "      <th>sbert__sb005</th>\n",
       "      <th>sbert__sb006</th>\n",
       "      <th>sbert__sb007</th>\n",
       "      <th>sbert__sb008</th>\n",
       "      <th>sbert__sb009</th>\n",
       "      <th>...</th>\n",
       "      <th>sbert__sb503</th>\n",
       "      <th>sbert__sb504</th>\n",
       "      <th>sbert__sb505</th>\n",
       "      <th>sbert__sb506</th>\n",
       "      <th>sbert__sb507</th>\n",
       "      <th>sbert__sb508</th>\n",
       "      <th>sbert__sb509</th>\n",
       "      <th>sbert__sb510</th>\n",
       "      <th>sbert__sb511</th>\n",
       "      <th>sbert__sb512</th>\n",
       "    </tr>\n",
       "  </thead>\n",
       "  <tbody>\n",
       "    <tr>\n",
       "      <th>0</th>\n",
       "      <td>1569866966566932480</td>\n",
       "      <td>-0.011765</td>\n",
       "      <td>-0.039000</td>\n",
       "      <td>0.022600</td>\n",
       "      <td>-0.036620</td>\n",
       "      <td>0.05145</td>\n",
       "      <td>-0.040440</td>\n",
       "      <td>-0.023510</td>\n",
       "      <td>-0.00535</td>\n",
       "      <td>0.01270</td>\n",
       "      <td>...</td>\n",
       "      <td>-0.06800</td>\n",
       "      <td>-0.02504</td>\n",
       "      <td>-0.040700</td>\n",
       "      <td>-0.001096</td>\n",
       "      <td>-0.06866</td>\n",
       "      <td>0.052500</td>\n",
       "      <td>-0.009926</td>\n",
       "      <td>0.01254</td>\n",
       "      <td>-0.03260</td>\n",
       "      <td>-0.056430</td>\n",
       "    </tr>\n",
       "    <tr>\n",
       "      <th>1</th>\n",
       "      <td>1569919081351942144</td>\n",
       "      <td>0.014670</td>\n",
       "      <td>-0.016880</td>\n",
       "      <td>0.002716</td>\n",
       "      <td>-0.033500</td>\n",
       "      <td>0.02348</td>\n",
       "      <td>-0.048300</td>\n",
       "      <td>0.060060</td>\n",
       "      <td>0.08030</td>\n",
       "      <td>-0.02367</td>\n",
       "      <td>...</td>\n",
       "      <td>-0.07250</td>\n",
       "      <td>-0.01132</td>\n",
       "      <td>0.054350</td>\n",
       "      <td>0.100500</td>\n",
       "      <td>-0.02869</td>\n",
       "      <td>0.005985</td>\n",
       "      <td>0.008736</td>\n",
       "      <td>-0.00974</td>\n",
       "      <td>-0.03983</td>\n",
       "      <td>-0.063660</td>\n",
       "    </tr>\n",
       "    <tr>\n",
       "      <th>2</th>\n",
       "      <td>1569930968026480640</td>\n",
       "      <td>0.021730</td>\n",
       "      <td>-0.011480</td>\n",
       "      <td>0.034970</td>\n",
       "      <td>-0.042400</td>\n",
       "      <td>0.06370</td>\n",
       "      <td>-0.026170</td>\n",
       "      <td>0.042940</td>\n",
       "      <td>0.02400</td>\n",
       "      <td>-0.02003</td>\n",
       "      <td>...</td>\n",
       "      <td>0.01248</td>\n",
       "      <td>0.02101</td>\n",
       "      <td>-0.002077</td>\n",
       "      <td>-0.014250</td>\n",
       "      <td>-0.03348</td>\n",
       "      <td>0.047300</td>\n",
       "      <td>-0.001765</td>\n",
       "      <td>-0.09290</td>\n",
       "      <td>-0.03075</td>\n",
       "      <td>-0.015300</td>\n",
       "    </tr>\n",
       "    <tr>\n",
       "      <th>3</th>\n",
       "      <td>1569947515465728000</td>\n",
       "      <td>0.013320</td>\n",
       "      <td>0.002968</td>\n",
       "      <td>-0.027510</td>\n",
       "      <td>-0.065250</td>\n",
       "      <td>0.05127</td>\n",
       "      <td>-0.085400</td>\n",
       "      <td>0.014694</td>\n",
       "      <td>0.05295</td>\n",
       "      <td>-0.04828</td>\n",
       "      <td>...</td>\n",
       "      <td>-0.05408</td>\n",
       "      <td>-0.00360</td>\n",
       "      <td>0.005302</td>\n",
       "      <td>0.009766</td>\n",
       "      <td>-0.02873</td>\n",
       "      <td>0.006115</td>\n",
       "      <td>-0.016530</td>\n",
       "      <td>-0.02817</td>\n",
       "      <td>-0.01456</td>\n",
       "      <td>-0.029330</td>\n",
       "    </tr>\n",
       "    <tr>\n",
       "      <th>4</th>\n",
       "      <td>1569961852972732416</td>\n",
       "      <td>0.065730</td>\n",
       "      <td>0.019930</td>\n",
       "      <td>0.035220</td>\n",
       "      <td>0.011986</td>\n",
       "      <td>-0.04720</td>\n",
       "      <td>-0.007717</td>\n",
       "      <td>-0.009430</td>\n",
       "      <td>0.03375</td>\n",
       "      <td>-0.07680</td>\n",
       "      <td>...</td>\n",
       "      <td>-0.07330</td>\n",
       "      <td>0.02222</td>\n",
       "      <td>0.026210</td>\n",
       "      <td>0.038120</td>\n",
       "      <td>-0.10016</td>\n",
       "      <td>0.020020</td>\n",
       "      <td>0.029590</td>\n",
       "      <td>-0.09950</td>\n",
       "      <td>-0.00475</td>\n",
       "      <td>-0.014435</td>\n",
       "    </tr>\n",
       "  </tbody>\n",
       "</table>\n",
       "<p>5 rows × 513 columns</p>\n",
       "</div>"
      ],
      "text/plain": [
       "                    id  sbert__sb001  sbert__sb002  sbert__sb003  \\\n",
       "0  1569866966566932480     -0.011765     -0.039000      0.022600   \n",
       "1  1569919081351942144      0.014670     -0.016880      0.002716   \n",
       "2  1569930968026480640      0.021730     -0.011480      0.034970   \n",
       "3  1569947515465728000      0.013320      0.002968     -0.027510   \n",
       "4  1569961852972732416      0.065730      0.019930      0.035220   \n",
       "\n",
       "   sbert__sb004  sbert__sb005  sbert__sb006  sbert__sb007  sbert__sb008  \\\n",
       "0     -0.036620       0.05145     -0.040440     -0.023510      -0.00535   \n",
       "1     -0.033500       0.02348     -0.048300      0.060060       0.08030   \n",
       "2     -0.042400       0.06370     -0.026170      0.042940       0.02400   \n",
       "3     -0.065250       0.05127     -0.085400      0.014694       0.05295   \n",
       "4      0.011986      -0.04720     -0.007717     -0.009430       0.03375   \n",
       "\n",
       "   sbert__sb009  ...  sbert__sb503  sbert__sb504  sbert__sb505  sbert__sb506  \\\n",
       "0       0.01270  ...      -0.06800      -0.02504     -0.040700     -0.001096   \n",
       "1      -0.02367  ...      -0.07250      -0.01132      0.054350      0.100500   \n",
       "2      -0.02003  ...       0.01248       0.02101     -0.002077     -0.014250   \n",
       "3      -0.04828  ...      -0.05408      -0.00360      0.005302      0.009766   \n",
       "4      -0.07680  ...      -0.07330       0.02222      0.026210      0.038120   \n",
       "\n",
       "   sbert__sb507  sbert__sb508  sbert__sb509  sbert__sb510  sbert__sb511  \\\n",
       "0      -0.06866      0.052500     -0.009926       0.01254      -0.03260   \n",
       "1      -0.02869      0.005985      0.008736      -0.00974      -0.03983   \n",
       "2      -0.03348      0.047300     -0.001765      -0.09290      -0.03075   \n",
       "3      -0.02873      0.006115     -0.016530      -0.02817      -0.01456   \n",
       "4      -0.10016      0.020020      0.029590      -0.09950      -0.00475   \n",
       "\n",
       "   sbert__sb512  \n",
       "0     -0.056430  \n",
       "1     -0.063660  \n",
       "2     -0.015300  \n",
       "3     -0.029330  \n",
       "4     -0.014435  \n",
       "\n",
       "[5 rows x 513 columns]"
      ]
     },
     "execution_count": 4,
     "metadata": {},
     "output_type": "execute_result"
    }
   ],
   "source": [
    "df = api.get_features_data(\"test3\", [\"sbert\"])\n",
    "df.head()"
   ]
  },
  {
   "cell_type": "markdown",
   "metadata": {},
   "source": [
    "## Manage scheme"
   ]
  },
  {
   "cell_type": "markdown",
   "metadata": {},
   "source": [
    "Get available scheme"
   ]
  },
  {
   "cell_type": "code",
   "execution_count": 7,
   "metadata": {},
   "outputs": [
    {
     "data": {
      "text/plain": [
       "{'default': {'labels': ['pas_genre', 'genre'], 'kind': 'multiclass'}}"
      ]
     },
     "execution_count": 7,
     "metadata": {},
     "output_type": "execute_result"
    }
   ],
   "source": [
    "api.get_schemes(\"genre\")"
   ]
  },
  {
   "cell_type": "markdown",
   "metadata": {},
   "source": [
    "Add scheme"
   ]
  },
  {
   "cell_type": "code",
   "execution_count": 4,
   "metadata": {},
   "outputs": [
    {
     "name": "stdout",
     "output_type": "stream",
     "text": [
      "Scheme added to project\n"
     ]
    }
   ],
   "source": [
    "api.add_scheme_to_project(\"genre\",\"test\",[\"coucou\",\"essai\"])"
   ]
  },
  {
   "cell_type": "markdown",
   "metadata": {},
   "source": [
    "Delete scheme"
   ]
  },
  {
   "cell_type": "code",
   "execution_count": 6,
   "metadata": {},
   "outputs": [
    {
     "name": "stdout",
     "output_type": "stream",
     "text": [
      "Scheme deleted from project\n"
     ]
    }
   ],
   "source": [
    "api.delete_scheme_from_project(\"genre\",\"test\")"
   ]
  },
  {
   "cell_type": "markdown",
   "metadata": {},
   "source": [
    "Add a label to a scheme"
   ]
  },
  {
   "cell_type": "code",
   "execution_count": 4,
   "metadata": {},
   "outputs": [
    {
     "name": "stdout",
     "output_type": "stream",
     "text": [
      "Label added to scheme\n"
     ]
    }
   ],
   "source": [
    "api.add_label_to_scheme(\"genre\", \"default\",\"test\")"
   ]
  },
  {
   "cell_type": "markdown",
   "metadata": {},
   "source": [
    "Remove label from a scheme"
   ]
  },
  {
   "cell_type": "code",
   "execution_count": 5,
   "metadata": {},
   "outputs": [
    {
     "name": "stdout",
     "output_type": "stream",
     "text": [
      "Label deleted from scheme\n"
     ]
    }
   ],
   "source": [
    "api.delete_label_from_scheme(\"genre\", \"default\", \"test\")"
   ]
  }
 ],
 "metadata": {
  "kernelspec": {
   "display_name": "base",
   "language": "python",
   "name": "python3"
  },
  "language_info": {
   "codemirror_mode": {
    "name": "ipython",
    "version": 3
   },
   "file_extension": ".py",
   "mimetype": "text/x-python",
   "name": "python",
   "nbconvert_exporter": "python",
   "pygments_lexer": "ipython3",
   "version": "3.11.7"
  }
 },
 "nbformat": 4,
 "nbformat_minor": 2
}
