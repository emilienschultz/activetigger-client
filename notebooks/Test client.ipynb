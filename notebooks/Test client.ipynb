{
 "cells": [
  {
   "cell_type": "code",
   "execution_count": 1,
   "metadata": {},
   "outputs": [],
   "source": [
    "import sys\n",
    "sys.path.append('..')\n",
    "import atclient\n",
    "import pandas as pd"
   ]
  },
  {
   "cell_type": "markdown",
   "metadata": {},
   "source": [
    "## Use the API"
   ]
  },
  {
   "cell_type": "markdown",
   "metadata": {},
   "source": [
    "### Connect"
   ]
  },
  {
   "cell_type": "markdown",
   "metadata": {},
   "source": [
    "Create a config.yaml with 3 fields : url, username and password"
   ]
  },
  {
   "cell_type": "code",
   "execution_count": 2,
   "metadata": {},
   "outputs": [
    {
     "name": "stdout",
     "output_type": "stream",
     "text": [
      "Token received\n"
     ]
    }
   ],
   "source": [
    "api = atclient.AtApi(config='../config.yaml')\n"
   ]
  },
  {
   "cell_type": "markdown",
   "metadata": {},
   "source": [
    "### Projects management"
   ]
  },
  {
   "cell_type": "markdown",
   "metadata": {},
   "source": [
    "Load data"
   ]
  },
  {
   "cell_type": "code",
   "execution_count": 3,
   "metadata": {},
   "outputs": [
    {
     "data": {
      "text/html": [
       "<div>\n",
       "<style scoped>\n",
       "    .dataframe tbody tr th:only-of-type {\n",
       "        vertical-align: middle;\n",
       "    }\n",
       "\n",
       "    .dataframe tbody tr th {\n",
       "        vertical-align: top;\n",
       "    }\n",
       "\n",
       "    .dataframe thead th {\n",
       "        text-align: right;\n",
       "    }\n",
       "</style>\n",
       "<table border=\"1\" class=\"dataframe\">\n",
       "  <thead>\n",
       "    <tr style=\"text-align: right;\">\n",
       "      <th></th>\n",
       "      <th>Unnamed: 0</th>\n",
       "      <th>id</th>\n",
       "      <th>text</th>\n",
       "      <th>label</th>\n",
       "      <th>prob</th>\n",
       "      <th>proba</th>\n",
       "    </tr>\n",
       "  </thead>\n",
       "  <tbody>\n",
       "    <tr>\n",
       "      <th>0</th>\n",
       "      <td>0</td>\n",
       "      <td>1569866966566932480</td>\n",
       "      <td>Les ENFANTS du Québec, \\nLes AÎNÉS du Québec,\\...</td>\n",
       "      <td>Autre</td>\n",
       "      <td>0.823412</td>\n",
       "      <td>NaN</td>\n",
       "    </tr>\n",
       "    <tr>\n",
       "      <th>1</th>\n",
       "      <td>1</td>\n",
       "      <td>1569919081351942144</td>\n",
       "      <td>Après avoir imposé une politique dystopique zé...</td>\n",
       "      <td>Autre</td>\n",
       "      <td>0.599684</td>\n",
       "      <td>NaN</td>\n",
       "    </tr>\n",
       "    <tr>\n",
       "      <th>2</th>\n",
       "      <td>2</td>\n",
       "      <td>1569930968026480640</td>\n",
       "      <td>@Nyonensis @DIVIZIO1 Pour le coup, si ce qu'il...</td>\n",
       "      <td>Autre</td>\n",
       "      <td>0.941126</td>\n",
       "      <td>NaN</td>\n",
       "    </tr>\n",
       "    <tr>\n",
       "      <th>3</th>\n",
       "      <td>3</td>\n",
       "      <td>1569947515465728000</td>\n",
       "      <td>@nadinecerdan @SaiyanBio @nawah_s C'est sous e...</td>\n",
       "      <td>Autre</td>\n",
       "      <td>0.625537</td>\n",
       "      <td>NaN</td>\n",
       "    </tr>\n",
       "    <tr>\n",
       "      <th>4</th>\n",
       "      <td>4</td>\n",
       "      <td>1569961852972732416</td>\n",
       "      <td>@L_ThinkTank L'achat de vaccins et d'armes ne ...</td>\n",
       "      <td>Autre</td>\n",
       "      <td>0.103508</td>\n",
       "      <td>NaN</td>\n",
       "    </tr>\n",
       "  </tbody>\n",
       "</table>\n",
       "</div>"
      ],
      "text/plain": [
       "   Unnamed: 0                   id  \\\n",
       "0           0  1569866966566932480   \n",
       "1           1  1569919081351942144   \n",
       "2           2  1569930968026480640   \n",
       "3           3  1569947515465728000   \n",
       "4           4  1569961852972732416   \n",
       "\n",
       "                                                text  label      prob  proba  \n",
       "0  Les ENFANTS du Québec, \\nLes AÎNÉS du Québec,\\...  Autre  0.823412    NaN  \n",
       "1  Après avoir imposé une politique dystopique zé...  Autre  0.599684    NaN  \n",
       "2  @Nyonensis @DIVIZIO1 Pour le coup, si ce qu'il...  Autre  0.941126    NaN  \n",
       "3  @nadinecerdan @SaiyanBio @nawah_s C'est sous e...  Autre  0.625537    NaN  \n",
       "4  @L_ThinkTank L'achat de vaccins et d'armes ne ...  Autre  0.103508    NaN  "
      ]
     },
     "execution_count": 3,
     "metadata": {},
     "output_type": "execute_result"
    }
   ],
   "source": [
    "df = pd.read_parquet(\"../../activetigger/data/dataset_test.parquet\")\n",
    "df.head()"
   ]
  },
  {
   "cell_type": "markdown",
   "metadata": {},
   "source": [
    "Create a project"
   ]
  },
  {
   "cell_type": "code",
   "execution_count": 4,
   "metadata": {},
   "outputs": [
    {
     "name": "stdout",
     "output_type": "stream",
     "text": [
      "b'\"test3\"'\n"
     ]
    }
   ],
   "source": [
    "api.add_project(\"test3\", df, \"id\", [\"text\"], col_label=\"label\")"
   ]
  },
  {
   "cell_type": "markdown",
   "metadata": {},
   "source": [
    "Delete a project"
   ]
  },
  {
   "cell_type": "code",
   "execution_count": 10,
   "metadata": {},
   "outputs": [
    {
     "name": "stdout",
     "output_type": "stream",
     "text": [
      "b'{\"detail\":\"Forbidden: Invalid rights\"}'\n"
     ]
    }
   ],
   "source": [
    "api.delete_project(\"test3\")"
   ]
  },
  {
   "cell_type": "markdown",
   "metadata": {},
   "source": [
    "### Users management"
   ]
  },
  {
   "cell_type": "markdown",
   "metadata": {},
   "source": [
    "Add"
   ]
  },
  {
   "cell_type": "code",
   "execution_count": 5,
   "metadata": {},
   "outputs": [
    {
     "name": "stdout",
     "output_type": "stream",
     "text": [
      "User created\n"
     ]
    }
   ],
   "source": [
    "api.add_user(\"coucou2\", \"coucou2\", \"test@test.fr\")"
   ]
  },
  {
   "cell_type": "markdown",
   "metadata": {},
   "source": [
    "Delete"
   ]
  },
  {
   "cell_type": "code",
   "execution_count": 12,
   "metadata": {},
   "outputs": [
    {
     "name": "stdout",
     "output_type": "stream",
     "text": [
      "User deleted\n"
     ]
    }
   ],
   "source": [
    "api.delete_user(\"coucou2\")"
   ]
  },
  {
   "cell_type": "markdown",
   "metadata": {},
   "source": [
    "Add Auth for a project"
   ]
  },
  {
   "cell_type": "code",
   "execution_count": 6,
   "metadata": {},
   "outputs": [
    {
     "name": "stdout",
     "output_type": "stream",
     "text": [
      "Auth added to user\n"
     ]
    }
   ],
   "source": [
    "api.add_auth_user_project(\"coucou2\", \"test3\", \"manager\")"
   ]
  },
  {
   "cell_type": "markdown",
   "metadata": {},
   "source": [
    "Delete Auth for a project"
   ]
  },
  {
   "cell_type": "code",
   "execution_count": 3,
   "metadata": {},
   "outputs": [
    {
     "name": "stdout",
     "output_type": "stream",
     "text": [
      "Auth deleted for user\n"
     ]
    }
   ],
   "source": [
    "api.delete_auth_user_project(\"coucou2\", \"test3\")"
   ]
  },
  {
   "cell_type": "markdown",
   "metadata": {},
   "source": [
    "### Get project state"
   ]
  },
  {
   "cell_type": "code",
   "execution_count": 6,
   "metadata": {},
   "outputs": [
    {
     "data": {
      "text/plain": [
       "{'available': {'default': {'labels': ['Autre', 'Règles'],\n",
       "   'kind': 'multiclass'},\n",
       "  'coucou': {'labels': ['Super', 'Sous'], 'kind': 'multiclass'}},\n",
       " 'statistics': {}}"
      ]
     },
     "execution_count": 6,
     "metadata": {},
     "output_type": "execute_result"
    }
   ],
   "source": [
    "state = api.get_project_state(\"test\")\n",
    "state[\"schemes\"]"
   ]
  },
  {
   "cell_type": "markdown",
   "metadata": {},
   "source": [
    "### Scheme management"
   ]
  },
  {
   "cell_type": "code",
   "execution_count": 14,
   "metadata": {},
   "outputs": [
    {
     "name": "stdout",
     "output_type": "stream",
     "text": [
      "b'{\"detail\":\"scheme name already exists\"}'\n"
     ]
    }
   ],
   "source": [
    "api.add_schemes(\"test\", \"coucou\", \"multiclass\", [\"Super\", \"Sous\"])"
   ]
  },
  {
   "cell_type": "markdown",
   "metadata": {},
   "source": [
    "### Get current annotations"
   ]
  },
  {
   "cell_type": "code",
   "execution_count": 15,
   "metadata": {},
   "outputs": [
    {
     "data": {
      "text/html": [
       "<div>\n",
       "<style scoped>\n",
       "    .dataframe tbody tr th:only-of-type {\n",
       "        vertical-align: middle;\n",
       "    }\n",
       "\n",
       "    .dataframe tbody tr th {\n",
       "        vertical-align: top;\n",
       "    }\n",
       "\n",
       "    .dataframe thead th {\n",
       "        text-align: right;\n",
       "    }\n",
       "</style>\n",
       "<table border=\"1\" class=\"dataframe\">\n",
       "  <thead>\n",
       "    <tr style=\"text-align: right;\">\n",
       "      <th></th>\n",
       "      <th>Unnamed: 0</th>\n",
       "      <th>id</th>\n",
       "      <th>dataset_id</th>\n",
       "      <th>text</th>\n",
       "      <th>labels</th>\n",
       "      <th>user</th>\n",
       "      <th>timestamp</th>\n",
       "      <th>comment</th>\n",
       "    </tr>\n",
       "  </thead>\n",
       "  <tbody>\n",
       "    <tr>\n",
       "      <th>0</th>\n",
       "      <td>0</td>\n",
       "      <td>1569866966566932480</td>\n",
       "      <td>1569866966566932480</td>\n",
       "      <td>Les ENFANTS du Québec, \\nLes AÎNÉS du Québec,\\...</td>\n",
       "      <td>Autre</td>\n",
       "      <td>root</td>\n",
       "      <td>2025-01-08 17:08:11.010291</td>\n",
       "      <td>NaN</td>\n",
       "    </tr>\n",
       "    <tr>\n",
       "      <th>1</th>\n",
       "      <td>1</td>\n",
       "      <td>1569919081351942144</td>\n",
       "      <td>1569919081351942144</td>\n",
       "      <td>Après avoir imposé une politique dystopique zé...</td>\n",
       "      <td>Autre</td>\n",
       "      <td>root</td>\n",
       "      <td>2025-01-08 17:08:11.010386</td>\n",
       "      <td>NaN</td>\n",
       "    </tr>\n",
       "    <tr>\n",
       "      <th>2</th>\n",
       "      <td>2</td>\n",
       "      <td>1569930968026480640</td>\n",
       "      <td>1569930968026480640</td>\n",
       "      <td>@Nyonensis @DIVIZIO1 Pour le coup, si ce qu'il...</td>\n",
       "      <td>Autre</td>\n",
       "      <td>root</td>\n",
       "      <td>2025-01-08 17:08:11.010416</td>\n",
       "      <td>NaN</td>\n",
       "    </tr>\n",
       "    <tr>\n",
       "      <th>3</th>\n",
       "      <td>3</td>\n",
       "      <td>1569947515465728000</td>\n",
       "      <td>1569947515465728000</td>\n",
       "      <td>@nadinecerdan @SaiyanBio @nawah_s C'est sous e...</td>\n",
       "      <td>Autre</td>\n",
       "      <td>root</td>\n",
       "      <td>2025-01-08 17:08:11.010438</td>\n",
       "      <td>NaN</td>\n",
       "    </tr>\n",
       "    <tr>\n",
       "      <th>4</th>\n",
       "      <td>4</td>\n",
       "      <td>1569961852972732416</td>\n",
       "      <td>1569961852972732416</td>\n",
       "      <td>@L_ThinkTank L'achat de vaccins et d'armes ne ...</td>\n",
       "      <td>Autre</td>\n",
       "      <td>root</td>\n",
       "      <td>2025-01-08 17:08:11.010459</td>\n",
       "      <td>NaN</td>\n",
       "    </tr>\n",
       "  </tbody>\n",
       "</table>\n",
       "</div>"
      ],
      "text/plain": [
       "   Unnamed: 0                   id           dataset_id  \\\n",
       "0           0  1569866966566932480  1569866966566932480   \n",
       "1           1  1569919081351942144  1569919081351942144   \n",
       "2           2  1569930968026480640  1569930968026480640   \n",
       "3           3  1569947515465728000  1569947515465728000   \n",
       "4           4  1569961852972732416  1569961852972732416   \n",
       "\n",
       "                                                text labels  user  \\\n",
       "0  Les ENFANTS du Québec, \\nLes AÎNÉS du Québec,\\...  Autre  root   \n",
       "1  Après avoir imposé une politique dystopique zé...  Autre  root   \n",
       "2  @Nyonensis @DIVIZIO1 Pour le coup, si ce qu'il...  Autre  root   \n",
       "3  @nadinecerdan @SaiyanBio @nawah_s C'est sous e...  Autre  root   \n",
       "4  @L_ThinkTank L'achat de vaccins et d'armes ne ...  Autre  root   \n",
       "\n",
       "                    timestamp  comment  \n",
       "0  2025-01-08 17:08:11.010291      NaN  \n",
       "1  2025-01-08 17:08:11.010386      NaN  \n",
       "2  2025-01-08 17:08:11.010416      NaN  \n",
       "3  2025-01-08 17:08:11.010438      NaN  \n",
       "4  2025-01-08 17:08:11.010459      NaN  "
      ]
     },
     "execution_count": 15,
     "metadata": {},
     "output_type": "execute_result"
    }
   ],
   "source": [
    "t = api.get_annotations_data(\"test\", \"default\")\n",
    "t.head()"
   ]
  },
  {
   "cell_type": "markdown",
   "metadata": {},
   "source": [
    "### Manage features"
   ]
  },
  {
   "cell_type": "markdown",
   "metadata": {},
   "source": [
    "Get available feature"
   ]
  },
  {
   "cell_type": "code",
   "execution_count": 8,
   "metadata": {},
   "outputs": [
    {
     "name": "stdout",
     "output_type": "stream",
     "text": [
      "b'{\"sbert\":{\"time\":\"2025-01-13 16:03:41\",\"kind\":\"sbert\",\"parameters\":{\"value\":\"\"},\"user\":null,\"data\":[\"sbert__sb001\",\"sbert__sb002\",\"sbert__sb003\",\"sbert__sb004\",\"sbert__sb005\",\"sbert__sb006\",\"sbert__sb007\",\"sbert__sb008\",\"sbert__sb009\",\"sbert__sb010\",\"sbert__sb011\",\"sbert__sb012\",\"sbert__sb013\",\"sbert__sb014\",\"sbert__sb015\",\"sbert__sb016\",\"sbert__sb017\",\"sbert__sb018\",\"sbert__sb019\",\"sbert__sb020\",\"sbert__sb021\",\"sbert__sb022\",\"sbert__sb023\",\"sbert__sb024\",\"sbert__sb025\",\"sbert__sb026\",\"sbert__sb027\",\"sbert__sb028\",\"sbert__sb029\",\"sbert__sb030\",\"sbert__sb031\",\"sbert__sb032\",\"sbert__sb033\",\"sbert__sb034\",\"sbert__sb035\",\"sbert__sb036\",\"sbert__sb037\",\"sbert__sb038\",\"sbert__sb039\",\"sbert__sb040\",\"sbert__sb041\",\"sbert__sb042\",\"sbert__sb043\",\"sbert__sb044\",\"sbert__sb045\",\"sbert__sb046\",\"sbert__sb047\",\"sbert__sb048\",\"sbert__sb049\",\"sbert__sb050\",\"sbert__sb051\",\"sbert__sb052\",\"sbert__sb053\",\"sbert__sb054\",\"sbert__sb055\",\"sbert__sb056\",\"sbert__sb057\",\"sbert__sb058\",\"sbert__sb059\",\"sbert__sb060\",\"sbert__sb061\",\"sbert__sb062\",\"sbert__sb063\",\"sbert__sb064\",\"sbert__sb065\",\"sbert__sb066\",\"sbert__sb067\",\"sbert__sb068\",\"sbert__sb069\",\"sbert__sb070\",\"sbert__sb071\",\"sbert__sb072\",\"sbert__sb073\",\"sbert__sb074\",\"sbert__sb075\",\"sbert__sb076\",\"sbert__sb077\",\"sbert__sb078\",\"sbert__sb079\",\"sbert__sb080\",\"sbert__sb081\",\"sbert__sb082\",\"sbert__sb083\",\"sbert__sb084\",\"sbert__sb085\",\"sbert__sb086\",\"sbert__sb087\",\"sbert__sb088\",\"sbert__sb089\",\"sbert__sb090\",\"sbert__sb091\",\"sbert__sb092\",\"sbert__sb093\",\"sbert__sb094\",\"sbert__sb095\",\"sbert__sb096\",\"sbert__sb097\",\"sbert__sb098\",\"sbert__sb099\",\"sbert__sb100\",\"sbert__sb101\",\"sbert__sb102\",\"sbert__sb103\",\"sbert__sb104\",\"sbert__sb105\",\"sbert__sb106\",\"sbert__sb107\",\"sbert__sb108\",\"sbert__sb109\",\"sbert__sb110\",\"sbert__sb111\",\"sbert__sb112\",\"sbert__sb113\",\"sbert__sb114\",\"sbert__sb115\",\"sbert__sb116\",\"sbert__sb117\",\"sbert__sb118\",\"sbert__sb119\",\"sbert__sb120\",\"sbert__sb121\",\"sbert__sb122\",\"sbert__sb123\",\"sbert__sb124\",\"sbert__sb125\",\"sbert__sb126\",\"sbert__sb127\",\"sbert__sb128\",\"sbert__sb129\",\"sbert__sb130\",\"sbert__sb131\",\"sbert__sb132\",\"sbert__sb133\",\"sbert__sb134\",\"sbert__sb135\",\"sbert__sb136\",\"sbert__sb137\",\"sbert__sb138\",\"sbert__sb139\",\"sbert__sb140\",\"sbert__sb141\",\"sbert__sb142\",\"sbert__sb143\",\"sbert__sb144\",\"sbert__sb145\",\"sbert__sb146\",\"sbert__sb147\",\"sbert__sb148\",\"sbert__sb149\",\"sbert__sb150\",\"sbert__sb151\",\"sbert__sb152\",\"sbert__sb153\",\"sbert__sb154\",\"sbert__sb155\",\"sbert__sb156\",\"sbert__sb157\",\"sbert__sb158\",\"sbert__sb159\",\"sbert__sb160\",\"sbert__sb161\",\"sbert__sb162\",\"sbert__sb163\",\"sbert__sb164\",\"sbert__sb165\",\"sbert__sb166\",\"sbert__sb167\",\"sbert__sb168\",\"sbert__sb169\",\"sbert__sb170\",\"sbert__sb171\",\"sbert__sb172\",\"sbert__sb173\",\"sbert__sb174\",\"sbert__sb175\",\"sbert__sb176\",\"sbert__sb177\",\"sbert__sb178\",\"sbert__sb179\",\"sbert__sb180\",\"sbert__sb181\",\"sbert__sb182\",\"sbert__sb183\",\"sbert__sb184\",\"sbert__sb185\",\"sbert__sb186\",\"sbert__sb187\",\"sbert__sb188\",\"sbert__sb189\",\"sbert__sb190\",\"sbert__sb191\",\"sbert__sb192\",\"sbert__sb193\",\"sbert__sb194\",\"sbert__sb195\",\"sbert__sb196\",\"sbert__sb197\",\"sbert__sb198\",\"sbert__sb199\",\"sbert__sb200\",\"sbert__sb201\",\"sbert__sb202\",\"sbert__sb203\",\"sbert__sb204\",\"sbert__sb205\",\"sbert__sb206\",\"sbert__sb207\",\"sbert__sb208\",\"sbert__sb209\",\"sbert__sb210\",\"sbert__sb211\",\"sbert__sb212\",\"sbert__sb213\",\"sbert__sb214\",\"sbert__sb215\",\"sbert__sb216\",\"sbert__sb217\",\"sbert__sb218\",\"sbert__sb219\",\"sbert__sb220\",\"sbert__sb221\",\"sbert__sb222\",\"sbert__sb223\",\"sbert__sb224\",\"sbert__sb225\",\"sbert__sb226\",\"sbert__sb227\",\"sbert__sb228\",\"sbert__sb229\",\"sbert__sb230\",\"sbert__sb231\",\"sbert__sb232\",\"sbert__sb233\",\"sbert__sb234\",\"sbert__sb235\",\"sbert__sb236\",\"sbert__sb237\",\"sbert__sb238\",\"sbert__sb239\",\"sbert__sb240\",\"sbert__sb241\",\"sbert__sb242\",\"sbert__sb243\",\"sbert__sb244\",\"sbert__sb245\",\"sbert__sb246\",\"sbert__sb247\",\"sbert__sb248\",\"sbert__sb249\",\"sbert__sb250\",\"sbert__sb251\",\"sbert__sb252\",\"sbert__sb253\",\"sbert__sb254\",\"sbert__sb255\",\"sbert__sb256\",\"sbert__sb257\",\"sbert__sb258\",\"sbert__sb259\",\"sbert__sb260\",\"sbert__sb261\",\"sbert__sb262\",\"sbert__sb263\",\"sbert__sb264\",\"sbert__sb265\",\"sbert__sb266\",\"sbert__sb267\",\"sbert__sb268\",\"sbert__sb269\",\"sbert__sb270\",\"sbert__sb271\",\"sbert__sb272\",\"sbert__sb273\",\"sbert__sb274\",\"sbert__sb275\",\"sbert__sb276\",\"sbert__sb277\",\"sbert__sb278\",\"sbert__sb279\",\"sbert__sb280\",\"sbert__sb281\",\"sbert__sb282\",\"sbert__sb283\",\"sbert__sb284\",\"sbert__sb285\",\"sbert__sb286\",\"sbert__sb287\",\"sbert__sb288\",\"sbert__sb289\",\"sbert__sb290\",\"sbert__sb291\",\"sbert__sb292\",\"sbert__sb293\",\"sbert__sb294\",\"sbert__sb295\",\"sbert__sb296\",\"sbert__sb297\",\"sbert__sb298\",\"sbert__sb299\",\"sbert__sb300\",\"sbert__sb301\",\"sbert__sb302\",\"sbert__sb303\",\"sbert__sb304\",\"sbert__sb305\",\"sbert__sb306\",\"sbert__sb307\",\"sbert__sb308\",\"sbert__sb309\",\"sbert__sb310\",\"sbert__sb311\",\"sbert__sb312\",\"sbert__sb313\",\"sbert__sb314\",\"sbert__sb315\",\"sbert__sb316\",\"sbert__sb317\",\"sbert__sb318\",\"sbert__sb319\",\"sbert__sb320\",\"sbert__sb321\",\"sbert__sb322\",\"sbert__sb323\",\"sbert__sb324\",\"sbert__sb325\",\"sbert__sb326\",\"sbert__sb327\",\"sbert__sb328\",\"sbert__sb329\",\"sbert__sb330\",\"sbert__sb331\",\"sbert__sb332\",\"sbert__sb333\",\"sbert__sb334\",\"sbert__sb335\",\"sbert__sb336\",\"sbert__sb337\",\"sbert__sb338\",\"sbert__sb339\",\"sbert__sb340\",\"sbert__sb341\",\"sbert__sb342\",\"sbert__sb343\",\"sbert__sb344\",\"sbert__sb345\",\"sbert__sb346\",\"sbert__sb347\",\"sbert__sb348\",\"sbert__sb349\",\"sbert__sb350\",\"sbert__sb351\",\"sbert__sb352\",\"sbert__sb353\",\"sbert__sb354\",\"sbert__sb355\",\"sbert__sb356\",\"sbert__sb357\",\"sbert__sb358\",\"sbert__sb359\",\"sbert__sb360\",\"sbert__sb361\",\"sbert__sb362\",\"sbert__sb363\",\"sbert__sb364\",\"sbert__sb365\",\"sbert__sb366\",\"sbert__sb367\",\"sbert__sb368\",\"sbert__sb369\",\"sbert__sb370\",\"sbert__sb371\",\"sbert__sb372\",\"sbert__sb373\",\"sbert__sb374\",\"sbert__sb375\",\"sbert__sb376\",\"sbert__sb377\",\"sbert__sb378\",\"sbert__sb379\",\"sbert__sb380\",\"sbert__sb381\",\"sbert__sb382\",\"sbert__sb383\",\"sbert__sb384\",\"sbert__sb385\",\"sbert__sb386\",\"sbert__sb387\",\"sbert__sb388\",\"sbert__sb389\",\"sbert__sb390\",\"sbert__sb391\",\"sbert__sb392\",\"sbert__sb393\",\"sbert__sb394\",\"sbert__sb395\",\"sbert__sb396\",\"sbert__sb397\",\"sbert__sb398\",\"sbert__sb399\",\"sbert__sb400\",\"sbert__sb401\",\"sbert__sb402\",\"sbert__sb403\",\"sbert__sb404\",\"sbert__sb405\",\"sbert__sb406\",\"sbert__sb407\",\"sbert__sb408\",\"sbert__sb409\",\"sbert__sb410\",\"sbert__sb411\",\"sbert__sb412\",\"sbert__sb413\",\"sbert__sb414\",\"sbert__sb415\",\"sbert__sb416\",\"sbert__sb417\",\"sbert__sb418\",\"sbert__sb419\",\"sbert__sb420\",\"sbert__sb421\",\"sbert__sb422\",\"sbert__sb423\",\"sbert__sb424\",\"sbert__sb425\",\"sbert__sb426\",\"sbert__sb427\",\"sbert__sb428\",\"sbert__sb429\",\"sbert__sb430\",\"sbert__sb431\",\"sbert__sb432\",\"sbert__sb433\",\"sbert__sb434\",\"sbert__sb435\",\"sbert__sb436\",\"sbert__sb437\",\"sbert__sb438\",\"sbert__sb439\",\"sbert__sb440\",\"sbert__sb441\",\"sbert__sb442\",\"sbert__sb443\",\"sbert__sb444\",\"sbert__sb445\",\"sbert__sb446\",\"sbert__sb447\",\"sbert__sb448\",\"sbert__sb449\",\"sbert__sb450\",\"sbert__sb451\",\"sbert__sb452\",\"sbert__sb453\",\"sbert__sb454\",\"sbert__sb455\",\"sbert__sb456\",\"sbert__sb457\",\"sbert__sb458\",\"sbert__sb459\",\"sbert__sb460\",\"sbert__sb461\",\"sbert__sb462\",\"sbert__sb463\",\"sbert__sb464\",\"sbert__sb465\",\"sbert__sb466\",\"sbert__sb467\",\"sbert__sb468\",\"sbert__sb469\",\"sbert__sb470\",\"sbert__sb471\",\"sbert__sb472\",\"sbert__sb473\",\"sbert__sb474\",\"sbert__sb475\",\"sbert__sb476\",\"sbert__sb477\",\"sbert__sb478\",\"sbert__sb479\",\"sbert__sb480\",\"sbert__sb481\",\"sbert__sb482\",\"sbert__sb483\",\"sbert__sb484\",\"sbert__sb485\",\"sbert__sb486\",\"sbert__sb487\",\"sbert__sb488\",\"sbert__sb489\",\"sbert__sb490\",\"sbert__sb491\",\"sbert__sb492\",\"sbert__sb493\",\"sbert__sb494\",\"sbert__sb495\",\"sbert__sb496\",\"sbert__sb497\",\"sbert__sb498\",\"sbert__sb499\",\"sbert__sb500\",\"sbert__sb501\",\"sbert__sb502\",\"sbert__sb503\",\"sbert__sb504\",\"sbert__sb505\",\"sbert__sb506\",\"sbert__sb507\",\"sbert__sb508\",\"sbert__sb509\",\"sbert__sb510\",\"sbert__sb511\",\"sbert__sb512\"]}}'\n"
     ]
    }
   ],
   "source": [
    "r = api.get_features(\"test3\")"
   ]
  },
  {
   "cell_type": "markdown",
   "metadata": {},
   "source": [
    "Add a SBERT feature on the train dataset"
   ]
  },
  {
   "cell_type": "code",
   "execution_count": 5,
   "metadata": {},
   "outputs": [
    {
     "name": "stdout",
     "output_type": "stream",
     "text": [
      "b'{\"detail\":\"computing sbert, it could take a few minutes\",\"status\":\"waiting\"}'\n"
     ]
    }
   ],
   "source": [
    "api.add_feature(\"test3\", \"sbert\", \"sbert\")"
   ]
  },
  {
   "cell_type": "markdown",
   "metadata": {},
   "source": [
    "Get features"
   ]
  },
  {
   "cell_type": "code",
   "execution_count": 4,
   "metadata": {},
   "outputs": [
    {
     "data": {
      "text/html": [
       "<div>\n",
       "<style scoped>\n",
       "    .dataframe tbody tr th:only-of-type {\n",
       "        vertical-align: middle;\n",
       "    }\n",
       "\n",
       "    .dataframe tbody tr th {\n",
       "        vertical-align: top;\n",
       "    }\n",
       "\n",
       "    .dataframe thead th {\n",
       "        text-align: right;\n",
       "    }\n",
       "</style>\n",
       "<table border=\"1\" class=\"dataframe\">\n",
       "  <thead>\n",
       "    <tr style=\"text-align: right;\">\n",
       "      <th></th>\n",
       "      <th>id</th>\n",
       "      <th>sbert__sb001</th>\n",
       "      <th>sbert__sb002</th>\n",
       "      <th>sbert__sb003</th>\n",
       "      <th>sbert__sb004</th>\n",
       "      <th>sbert__sb005</th>\n",
       "      <th>sbert__sb006</th>\n",
       "      <th>sbert__sb007</th>\n",
       "      <th>sbert__sb008</th>\n",
       "      <th>sbert__sb009</th>\n",
       "      <th>...</th>\n",
       "      <th>sbert__sb503</th>\n",
       "      <th>sbert__sb504</th>\n",
       "      <th>sbert__sb505</th>\n",
       "      <th>sbert__sb506</th>\n",
       "      <th>sbert__sb507</th>\n",
       "      <th>sbert__sb508</th>\n",
       "      <th>sbert__sb509</th>\n",
       "      <th>sbert__sb510</th>\n",
       "      <th>sbert__sb511</th>\n",
       "      <th>sbert__sb512</th>\n",
       "    </tr>\n",
       "  </thead>\n",
       "  <tbody>\n",
       "    <tr>\n",
       "      <th>0</th>\n",
       "      <td>1569866966566932480</td>\n",
       "      <td>-0.011765</td>\n",
       "      <td>-0.039000</td>\n",
       "      <td>0.022600</td>\n",
       "      <td>-0.036620</td>\n",
       "      <td>0.05145</td>\n",
       "      <td>-0.040440</td>\n",
       "      <td>-0.023510</td>\n",
       "      <td>-0.00535</td>\n",
       "      <td>0.01270</td>\n",
       "      <td>...</td>\n",
       "      <td>-0.06800</td>\n",
       "      <td>-0.02504</td>\n",
       "      <td>-0.040700</td>\n",
       "      <td>-0.001096</td>\n",
       "      <td>-0.06866</td>\n",
       "      <td>0.052500</td>\n",
       "      <td>-0.009926</td>\n",
       "      <td>0.01254</td>\n",
       "      <td>-0.03260</td>\n",
       "      <td>-0.056430</td>\n",
       "    </tr>\n",
       "    <tr>\n",
       "      <th>1</th>\n",
       "      <td>1569919081351942144</td>\n",
       "      <td>0.014670</td>\n",
       "      <td>-0.016880</td>\n",
       "      <td>0.002716</td>\n",
       "      <td>-0.033500</td>\n",
       "      <td>0.02348</td>\n",
       "      <td>-0.048300</td>\n",
       "      <td>0.060060</td>\n",
       "      <td>0.08030</td>\n",
       "      <td>-0.02367</td>\n",
       "      <td>...</td>\n",
       "      <td>-0.07250</td>\n",
       "      <td>-0.01132</td>\n",
       "      <td>0.054350</td>\n",
       "      <td>0.100500</td>\n",
       "      <td>-0.02869</td>\n",
       "      <td>0.005985</td>\n",
       "      <td>0.008736</td>\n",
       "      <td>-0.00974</td>\n",
       "      <td>-0.03983</td>\n",
       "      <td>-0.063660</td>\n",
       "    </tr>\n",
       "    <tr>\n",
       "      <th>2</th>\n",
       "      <td>1569930968026480640</td>\n",
       "      <td>0.021730</td>\n",
       "      <td>-0.011480</td>\n",
       "      <td>0.034970</td>\n",
       "      <td>-0.042400</td>\n",
       "      <td>0.06370</td>\n",
       "      <td>-0.026170</td>\n",
       "      <td>0.042940</td>\n",
       "      <td>0.02400</td>\n",
       "      <td>-0.02003</td>\n",
       "      <td>...</td>\n",
       "      <td>0.01248</td>\n",
       "      <td>0.02101</td>\n",
       "      <td>-0.002077</td>\n",
       "      <td>-0.014250</td>\n",
       "      <td>-0.03348</td>\n",
       "      <td>0.047300</td>\n",
       "      <td>-0.001765</td>\n",
       "      <td>-0.09290</td>\n",
       "      <td>-0.03075</td>\n",
       "      <td>-0.015300</td>\n",
       "    </tr>\n",
       "    <tr>\n",
       "      <th>3</th>\n",
       "      <td>1569947515465728000</td>\n",
       "      <td>0.013320</td>\n",
       "      <td>0.002968</td>\n",
       "      <td>-0.027510</td>\n",
       "      <td>-0.065250</td>\n",
       "      <td>0.05127</td>\n",
       "      <td>-0.085400</td>\n",
       "      <td>0.014694</td>\n",
       "      <td>0.05295</td>\n",
       "      <td>-0.04828</td>\n",
       "      <td>...</td>\n",
       "      <td>-0.05408</td>\n",
       "      <td>-0.00360</td>\n",
       "      <td>0.005302</td>\n",
       "      <td>0.009766</td>\n",
       "      <td>-0.02873</td>\n",
       "      <td>0.006115</td>\n",
       "      <td>-0.016530</td>\n",
       "      <td>-0.02817</td>\n",
       "      <td>-0.01456</td>\n",
       "      <td>-0.029330</td>\n",
       "    </tr>\n",
       "    <tr>\n",
       "      <th>4</th>\n",
       "      <td>1569961852972732416</td>\n",
       "      <td>0.065730</td>\n",
       "      <td>0.019930</td>\n",
       "      <td>0.035220</td>\n",
       "      <td>0.011986</td>\n",
       "      <td>-0.04720</td>\n",
       "      <td>-0.007717</td>\n",
       "      <td>-0.009430</td>\n",
       "      <td>0.03375</td>\n",
       "      <td>-0.07680</td>\n",
       "      <td>...</td>\n",
       "      <td>-0.07330</td>\n",
       "      <td>0.02222</td>\n",
       "      <td>0.026210</td>\n",
       "      <td>0.038120</td>\n",
       "      <td>-0.10016</td>\n",
       "      <td>0.020020</td>\n",
       "      <td>0.029590</td>\n",
       "      <td>-0.09950</td>\n",
       "      <td>-0.00475</td>\n",
       "      <td>-0.014435</td>\n",
       "    </tr>\n",
       "  </tbody>\n",
       "</table>\n",
       "<p>5 rows × 513 columns</p>\n",
       "</div>"
      ],
      "text/plain": [
       "                    id  sbert__sb001  sbert__sb002  sbert__sb003  \\\n",
       "0  1569866966566932480     -0.011765     -0.039000      0.022600   \n",
       "1  1569919081351942144      0.014670     -0.016880      0.002716   \n",
       "2  1569930968026480640      0.021730     -0.011480      0.034970   \n",
       "3  1569947515465728000      0.013320      0.002968     -0.027510   \n",
       "4  1569961852972732416      0.065730      0.019930      0.035220   \n",
       "\n",
       "   sbert__sb004  sbert__sb005  sbert__sb006  sbert__sb007  sbert__sb008  \\\n",
       "0     -0.036620       0.05145     -0.040440     -0.023510      -0.00535   \n",
       "1     -0.033500       0.02348     -0.048300      0.060060       0.08030   \n",
       "2     -0.042400       0.06370     -0.026170      0.042940       0.02400   \n",
       "3     -0.065250       0.05127     -0.085400      0.014694       0.05295   \n",
       "4      0.011986      -0.04720     -0.007717     -0.009430       0.03375   \n",
       "\n",
       "   sbert__sb009  ...  sbert__sb503  sbert__sb504  sbert__sb505  sbert__sb506  \\\n",
       "0       0.01270  ...      -0.06800      -0.02504     -0.040700     -0.001096   \n",
       "1      -0.02367  ...      -0.07250      -0.01132      0.054350      0.100500   \n",
       "2      -0.02003  ...       0.01248       0.02101     -0.002077     -0.014250   \n",
       "3      -0.04828  ...      -0.05408      -0.00360      0.005302      0.009766   \n",
       "4      -0.07680  ...      -0.07330       0.02222      0.026210      0.038120   \n",
       "\n",
       "   sbert__sb507  sbert__sb508  sbert__sb509  sbert__sb510  sbert__sb511  \\\n",
       "0      -0.06866      0.052500     -0.009926       0.01254      -0.03260   \n",
       "1      -0.02869      0.005985      0.008736      -0.00974      -0.03983   \n",
       "2      -0.03348      0.047300     -0.001765      -0.09290      -0.03075   \n",
       "3      -0.02873      0.006115     -0.016530      -0.02817      -0.01456   \n",
       "4      -0.10016      0.020020      0.029590      -0.09950      -0.00475   \n",
       "\n",
       "   sbert__sb512  \n",
       "0     -0.056430  \n",
       "1     -0.063660  \n",
       "2     -0.015300  \n",
       "3     -0.029330  \n",
       "4     -0.014435  \n",
       "\n",
       "[5 rows x 513 columns]"
      ]
     },
     "execution_count": 4,
     "metadata": {},
     "output_type": "execute_result"
    }
   ],
   "source": [
    "df = api.get_features_data(\"test3\", [\"sbert\"])\n",
    "df.head()"
   ]
  }
 ],
 "metadata": {
  "kernelspec": {
   "display_name": "base",
   "language": "python",
   "name": "python3"
  },
  "language_info": {
   "codemirror_mode": {
    "name": "ipython",
    "version": 3
   },
   "file_extension": ".py",
   "mimetype": "text/x-python",
   "name": "python",
   "nbconvert_exporter": "python",
   "pygments_lexer": "ipython3",
   "version": "3.11.7"
  }
 },
 "nbformat": 4,
 "nbformat_minor": 2
}
