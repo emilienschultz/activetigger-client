{
 "cells": [
  {
   "cell_type": "code",
   "execution_count": 1,
   "metadata": {},
   "outputs": [],
   "source": [
    "import sys\n",
    "sys.path.append('..')\n",
    "import atclient\n",
    "import pandas as pd"
   ]
  },
  {
   "cell_type": "markdown",
   "metadata": {},
   "source": [
    "## Use the API"
   ]
  },
  {
   "cell_type": "markdown",
   "metadata": {},
   "source": [
    "### Connect"
   ]
  },
  {
   "cell_type": "markdown",
   "metadata": {},
   "source": [
    "Create a config.yaml with 3 fields : url, username and password"
   ]
  },
  {
   "cell_type": "code",
   "execution_count": 2,
   "metadata": {},
   "outputs": [
    {
     "name": "stdout",
     "output_type": "stream",
     "text": [
      "Token received\n"
     ]
    }
   ],
   "source": [
    "api = atclient.AtApi(config='../config.yaml')\n"
   ]
  },
  {
   "cell_type": "markdown",
   "metadata": {},
   "source": [
    "### Create a project"
   ]
  },
  {
   "cell_type": "code",
   "execution_count": 3,
   "metadata": {},
   "outputs": [
    {
     "data": {
      "text/html": [
       "<div>\n",
       "<style scoped>\n",
       "    .dataframe tbody tr th:only-of-type {\n",
       "        vertical-align: middle;\n",
       "    }\n",
       "\n",
       "    .dataframe tbody tr th {\n",
       "        vertical-align: top;\n",
       "    }\n",
       "\n",
       "    .dataframe thead th {\n",
       "        text-align: right;\n",
       "    }\n",
       "</style>\n",
       "<table border=\"1\" class=\"dataframe\">\n",
       "  <thead>\n",
       "    <tr style=\"text-align: right;\">\n",
       "      <th></th>\n",
       "      <th>Unnamed: 0</th>\n",
       "      <th>id</th>\n",
       "      <th>text</th>\n",
       "      <th>label</th>\n",
       "      <th>prob</th>\n",
       "      <th>proba</th>\n",
       "    </tr>\n",
       "  </thead>\n",
       "  <tbody>\n",
       "    <tr>\n",
       "      <th>0</th>\n",
       "      <td>0</td>\n",
       "      <td>1569866966566932480</td>\n",
       "      <td>Les ENFANTS du Québec, \\nLes AÎNÉS du Québec,\\...</td>\n",
       "      <td>Autre</td>\n",
       "      <td>0.823412</td>\n",
       "      <td>NaN</td>\n",
       "    </tr>\n",
       "    <tr>\n",
       "      <th>1</th>\n",
       "      <td>1</td>\n",
       "      <td>1569919081351942144</td>\n",
       "      <td>Après avoir imposé une politique dystopique zé...</td>\n",
       "      <td>Autre</td>\n",
       "      <td>0.599684</td>\n",
       "      <td>NaN</td>\n",
       "    </tr>\n",
       "    <tr>\n",
       "      <th>2</th>\n",
       "      <td>2</td>\n",
       "      <td>1569930968026480640</td>\n",
       "      <td>@Nyonensis @DIVIZIO1 Pour le coup, si ce qu'il...</td>\n",
       "      <td>Autre</td>\n",
       "      <td>0.941126</td>\n",
       "      <td>NaN</td>\n",
       "    </tr>\n",
       "    <tr>\n",
       "      <th>3</th>\n",
       "      <td>3</td>\n",
       "      <td>1569947515465728000</td>\n",
       "      <td>@nadinecerdan @SaiyanBio @nawah_s C'est sous e...</td>\n",
       "      <td>Autre</td>\n",
       "      <td>0.625537</td>\n",
       "      <td>NaN</td>\n",
       "    </tr>\n",
       "    <tr>\n",
       "      <th>4</th>\n",
       "      <td>4</td>\n",
       "      <td>1569961852972732416</td>\n",
       "      <td>@L_ThinkTank L'achat de vaccins et d'armes ne ...</td>\n",
       "      <td>Autre</td>\n",
       "      <td>0.103508</td>\n",
       "      <td>NaN</td>\n",
       "    </tr>\n",
       "  </tbody>\n",
       "</table>\n",
       "</div>"
      ],
      "text/plain": [
       "   Unnamed: 0                   id  \\\n",
       "0           0  1569866966566932480   \n",
       "1           1  1569919081351942144   \n",
       "2           2  1569930968026480640   \n",
       "3           3  1569947515465728000   \n",
       "4           4  1569961852972732416   \n",
       "\n",
       "                                                text  label      prob  proba  \n",
       "0  Les ENFANTS du Québec, \\nLes AÎNÉS du Québec,\\...  Autre  0.823412    NaN  \n",
       "1  Après avoir imposé une politique dystopique zé...  Autre  0.599684    NaN  \n",
       "2  @Nyonensis @DIVIZIO1 Pour le coup, si ce qu'il...  Autre  0.941126    NaN  \n",
       "3  @nadinecerdan @SaiyanBio @nawah_s C'est sous e...  Autre  0.625537    NaN  \n",
       "4  @L_ThinkTank L'achat de vaccins et d'armes ne ...  Autre  0.103508    NaN  "
      ]
     },
     "execution_count": 3,
     "metadata": {},
     "output_type": "execute_result"
    }
   ],
   "source": [
    "df = pd.read_parquet(\"../../activetigger/data/dataset_test.parquet\")\n",
    "df.head()"
   ]
  },
  {
   "cell_type": "code",
   "execution_count": 6,
   "metadata": {},
   "outputs": [
    {
     "name": "stdout",
     "output_type": "stream",
     "text": [
      "b'\"test2\"'\n"
     ]
    }
   ],
   "source": [
    "api.create_project(\"test2\", df, \"id\", [\"text\"], col_label=\"label\")"
   ]
  },
  {
   "cell_type": "markdown",
   "metadata": {},
   "source": [
    "### Add a user"
   ]
  },
  {
   "cell_type": "code",
   "execution_count": 7,
   "metadata": {},
   "outputs": [
    {
     "name": "stdout",
     "output_type": "stream",
     "text": [
      "b'null'\n"
     ]
    }
   ],
   "source": [
    "api.create_user(\"coucou2\", \"coucou2\", \"test@test.fr\")"
   ]
  }
 ],
 "metadata": {
  "kernelspec": {
   "display_name": "base",
   "language": "python",
   "name": "python3"
  },
  "language_info": {
   "codemirror_mode": {
    "name": "ipython",
    "version": 3
   },
   "file_extension": ".py",
   "mimetype": "text/x-python",
   "name": "python",
   "nbconvert_exporter": "python",
   "pygments_lexer": "ipython3",
   "version": "3.11.7"
  }
 },
 "nbformat": 4,
 "nbformat_minor": 2
}
